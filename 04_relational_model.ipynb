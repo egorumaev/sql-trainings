{
  "nbformat": 4,
  "nbformat_minor": 0,
  "metadata": {
    "colab": {
      "provenance": []
    },
    "kernelspec": {
      "name": "python3",
      "display_name": "Python 3"
    },
    "language_info": {
      "name": "python"
    }
  },
  "cells": [
    {
      "cell_type": "markdown",
      "source": [
        "# **<font color='crimson'>Relational Model</font>**\n",
        "\n",
        "---"
      ],
      "metadata": {
        "id": "geaeseKpLxrf"
      }
    },
    {
      "cell_type": "markdown",
      "source": [
        "# **1.1 Relations**\n",
        "\n",
        "---"
      ],
      "metadata": {
        "id": "kgwUZ3jRNIRl"
      }
    },
    {
      "cell_type": "code",
      "execution_count": null,
      "metadata": {
        "id": "MGBUyCiTLiqY"
      },
      "outputs": [],
      "source": [
        "###"
      ]
    },
    {
      "cell_type": "code",
      "source": [
        "CREATE TABLE book(\n",
        "    book_id INT PRIMARY KEY AUTO_INCREMENT,\n",
        "    title VARCHAR(50),\n",
        "    author VARCHAR(30),\n",
        "    price DECIMAL(8, 2),\n",
        "    amount INT\n",
        ");"
      ],
      "metadata": {
        "id": "LnIvqCeZLxMA"
      },
      "execution_count": null,
      "outputs": []
    },
    {
      "cell_type": "code",
      "source": [
        "###"
      ],
      "metadata": {
        "id": "XcVzWZbCLpJT"
      },
      "execution_count": null,
      "outputs": []
    },
    {
      "cell_type": "code",
      "source": [
        "INSERT INTO book (title, author, price, amount)\n",
        "VALUES ('Мастер и Маргарита', 'Булгаков М.А.', 670.99, 3);"
      ],
      "metadata": {
        "id": "GjdjIIA2LpMg"
      },
      "execution_count": null,
      "outputs": []
    },
    {
      "cell_type": "code",
      "source": [
        "###"
      ],
      "metadata": {
        "id": "PJnAjck7LpQK"
      },
      "execution_count": null,
      "outputs": []
    },
    {
      "cell_type": "code",
      "source": [
        "INSERT INTO book (title, author, price, amount)\n",
        "VALUES\n",
        "    ('Белая гвардия', 'Булгаков М.А.', 540.50, 5),\n",
        "    ('Идиот', 'Достоевский Ф.М.', 460.00, 10),\n",
        "    ('Братья Карамазовы', 'Достоевский Ф.М.', 799.01, 2);"
      ],
      "metadata": {
        "id": "O85vcjNTLpTc"
      },
      "execution_count": null,
      "outputs": []
    },
    {
      "cell_type": "markdown",
      "source": [
        "# **1.2 Data Sampling**\n",
        "\n",
        "---"
      ],
      "metadata": {
        "id": "MRQC9iryNLhU"
      }
    },
    {
      "cell_type": "code",
      "source": [
        "###"
      ],
      "metadata": {
        "id": "JPqfiAs3NTxk"
      },
      "execution_count": null,
      "outputs": []
    },
    {
      "cell_type": "code",
      "source": [
        "SELECT *\n",
        "FROM book;"
      ],
      "metadata": {
        "id": "9URWpNudLpWo"
      },
      "execution_count": null,
      "outputs": []
    },
    {
      "cell_type": "code",
      "source": [
        "###"
      ],
      "metadata": {
        "id": "fTzkbex4LpZ4"
      },
      "execution_count": null,
      "outputs": []
    },
    {
      "cell_type": "code",
      "source": [
        "SELECT\n",
        "    author,\n",
        "    title,\n",
        "    price\n",
        "FROM book;"
      ],
      "metadata": {
        "id": "39CwO0D7LpdD"
      },
      "execution_count": null,
      "outputs": []
    },
    {
      "cell_type": "code",
      "source": [
        "###"
      ],
      "metadata": {
        "id": "XYesvkqyLpgc"
      },
      "execution_count": null,
      "outputs": []
    },
    {
      "cell_type": "code",
      "source": [
        "SELECT\n",
        "    title AS Название,\n",
        "    author AS Автор\n",
        "FROM book;"
      ],
      "metadata": {
        "id": "itgA6GaKLpjY"
      },
      "execution_count": null,
      "outputs": []
    },
    {
      "cell_type": "code",
      "source": [
        "###"
      ],
      "metadata": {
        "id": "4qQDz-7zLpmj"
      },
      "execution_count": null,
      "outputs": []
    },
    {
      "cell_type": "code",
      "source": [
        "SELECT\n",
        "     title,\n",
        "     amount,\n",
        "     amount * 1.65 AS pack\n",
        "FROM book;"
      ],
      "metadata": {
        "id": "altwpmAnLpp1"
      },
      "execution_count": null,
      "outputs": []
    },
    {
      "cell_type": "code",
      "source": [
        "###"
      ],
      "metadata": {
        "id": "fhxIuWIWLptK"
      },
      "execution_count": null,
      "outputs": []
    },
    {
      "cell_type": "code",
      "source": [
        "SELECT\n",
        "    title,\n",
        "    author,\n",
        "    amount,\n",
        "    ROUND(price * 0.7, 2) AS new_price\n",
        "FROM book;"
      ],
      "metadata": {
        "id": "Lqj44DcLLpwG"
      },
      "execution_count": null,
      "outputs": []
    },
    {
      "cell_type": "code",
      "source": [
        "###"
      ],
      "metadata": {
        "id": "TT79eh_hPTOv"
      },
      "execution_count": null,
      "outputs": []
    },
    {
      "cell_type": "code",
      "source": [
        "SELECT\n",
        "    author,\n",
        "    title,\n",
        "    ROUND(IF\n",
        "      (author = 'Булгаков М.А.', price * 1.1,\n",
        "      IF\n",
        "      (author = 'Есенин С.А.', price * 1.05, price)), 2)\n",
        "      AS new_price\n",
        "FROM book;"
      ],
      "metadata": {
        "id": "e-Rebj_gPTRv"
      },
      "execution_count": null,
      "outputs": []
    },
    {
      "cell_type": "code",
      "source": [
        "###"
      ],
      "metadata": {
        "id": "ecizBzeIPTU8"
      },
      "execution_count": null,
      "outputs": []
    },
    {
      "cell_type": "code",
      "source": [
        "SELECT\n",
        "    author,\n",
        "    title,\n",
        "    price\n",
        "FROM book\n",
        "WHERE amount < 10;"
      ],
      "metadata": {
        "id": "ZIz-rM7oPTYF"
      },
      "execution_count": null,
      "outputs": []
    },
    {
      "cell_type": "code",
      "source": [
        "###"
      ],
      "metadata": {
        "id": "TZBR9akLPTbC"
      },
      "execution_count": null,
      "outputs": []
    },
    {
      "cell_type": "code",
      "source": [
        "SELECT\n",
        "    title,\n",
        "    author,\n",
        "    price,\n",
        "    amount\n",
        "FROM book\n",
        "WHERE (price < 500 OR price > 600) AND (price * amount > 5000);"
      ],
      "metadata": {
        "id": "73cL7qehPTeA"
      },
      "execution_count": null,
      "outputs": []
    },
    {
      "cell_type": "code",
      "source": [
        "###"
      ],
      "metadata": {
        "id": "ENBtdl0Qa2Sr"
      },
      "execution_count": null,
      "outputs": []
    },
    {
      "cell_type": "code",
      "source": [
        "SELECT\n",
        "    title,\n",
        "    author\n",
        "FROM book\n",
        "WHERE (price BETWEEN 540.5 AND 800) AND amount IN (2, 3, 5, 7);"
      ],
      "metadata": {
        "id": "4TTEU7b5a2Vx"
      },
      "execution_count": null,
      "outputs": []
    },
    {
      "cell_type": "code",
      "source": [
        "###"
      ],
      "metadata": {
        "id": "p6gVgsy4a2Yr"
      },
      "execution_count": null,
      "outputs": []
    },
    {
      "cell_type": "code",
      "source": [
        "SELECT\n",
        "    author,\n",
        "    title\n",
        "FROM book\n",
        "WHERE amount BETWEEN 2 AND 14\n",
        "ORDER BY author DESC, title;"
      ],
      "metadata": {
        "id": "8GtzsHCFa2bn"
      },
      "execution_count": null,
      "outputs": []
    },
    {
      "cell_type": "code",
      "source": [
        "###"
      ],
      "metadata": {
        "id": "8yAUBJ9Ba2iE"
      },
      "execution_count": null,
      "outputs": []
    },
    {
      "cell_type": "code",
      "source": [
        "SELECT\n",
        "    title,\n",
        "    author\n",
        "FROM book\n",
        "WHERE (title NOT LIKE ' ') AND (title LIKE '% %') AND (author LIKE '% С._.' OR author LIKE '% _.С.')\n",
        "ORDER BY title;"
      ],
      "metadata": {
        "id": "DPfw6_gda2lT"
      },
      "execution_count": null,
      "outputs": []
    },
    {
      "cell_type": "code",
      "source": [
        "###"
      ],
      "metadata": {
        "id": "xtEF0PgMPTg6"
      },
      "execution_count": null,
      "outputs": []
    },
    {
      "cell_type": "code",
      "source": [
        "SELECT\n",
        "    author AS 'Автор',\n",
        "    title AS 'Название',\n",
        "    amount AS 'Продано',\n",
        "    amount * price AS 'Выручка'\n",
        "FROM book\n",
        "WHERE amount > 5\n",
        "ORDER BY amount * price DESC;"
      ],
      "metadata": {
        "id": "6v8YwvcrPTj3"
      },
      "execution_count": null,
      "outputs": []
    },
    {
      "cell_type": "markdown",
      "source": [
        "# **1.3 Queries and Group Operations**\n",
        "\n",
        "---\n",
        "\n"
      ],
      "metadata": {
        "id": "CeUmbPLqJZSd"
      }
    },
    {
      "cell_type": "code",
      "source": [
        "###"
      ],
      "metadata": {
        "id": "TDibSmnnPTmo"
      },
      "execution_count": null,
      "outputs": []
    },
    {
      "cell_type": "code",
      "source": [
        "SELECT\n",
        "    DISTINCT amount\n",
        "FROM book;"
      ],
      "metadata": {
        "id": "t3deOQNzJ5wt"
      },
      "execution_count": null,
      "outputs": []
    },
    {
      "cell_type": "code",
      "source": [
        "###"
      ],
      "metadata": {
        "id": "JzY0OFm0J50Z"
      },
      "execution_count": null,
      "outputs": []
    },
    {
      "cell_type": "code",
      "source": [
        "SELECT\n",
        "    author AS 'Автор',\n",
        "    COUNT(DISTINCT title) AS 'Различных_книг',\n",
        "    SUM(amount) AS 'Количество_экземпляров'\n",
        "FROM book\n",
        "GROUP BY author;"
      ],
      "metadata": {
        "id": "MdiKw9YSJ54F"
      },
      "execution_count": null,
      "outputs": []
    },
    {
      "cell_type": "code",
      "source": [
        "###"
      ],
      "metadata": {
        "id": "Fq3k84lTJ57r"
      },
      "execution_count": null,
      "outputs": []
    },
    {
      "cell_type": "code",
      "source": [
        "SELECT\n",
        "    author,\n",
        "    MIN(price) AS 'Минимальная_цена',\n",
        "    MAX(price) AS 'Максимальная_цена',\n",
        "    AVG(price) AS 'Средняя_цена'\n",
        "FROM book\n",
        "GROUP BY author;"
      ],
      "metadata": {
        "id": "wQdyrEYnJ5_o"
      },
      "execution_count": null,
      "outputs": []
    },
    {
      "cell_type": "code",
      "source": [
        "###"
      ],
      "metadata": {
        "id": "qsRlZuYJJ6DQ"
      },
      "execution_count": null,
      "outputs": []
    },
    {
      "cell_type": "code",
      "source": [
        "SELECT\n",
        "    author,\n",
        "    SUM(price * amount) AS 'Стоимость',\n",
        "    ROUND(\n",
        "      SUM(((price * amount) * (18 / 100)) / (1 + 18 / 100)), 2) AS 'НДС',\n",
        "    ROUND(\n",
        "      SUM((price * amount)  / (1 + 18 / 100)), 2) AS 'Стоимость_без_НДС'\n",
        "FROM book\n",
        "GROUP BY author;"
      ],
      "metadata": {
        "id": "pUxX8jTHJ6HH"
      },
      "execution_count": null,
      "outputs": []
    },
    {
      "cell_type": "code",
      "source": [
        "###"
      ],
      "metadata": {
        "id": "iCACTqSAJ6Kq"
      },
      "execution_count": null,
      "outputs": []
    },
    {
      "cell_type": "code",
      "source": [
        "SELECT\n",
        "    MIN(price) AS 'Минимальная_цена',\n",
        "    MAX(price) AS 'Максимальная_цена',\n",
        "    ROUND(AVG(price), 2) AS 'Средняя_цена'\n",
        "FROM book;"
      ],
      "metadata": {
        "id": "vSSavC58J6Oj"
      },
      "execution_count": null,
      "outputs": []
    },
    {
      "cell_type": "code",
      "source": [
        "###"
      ],
      "metadata": {
        "id": "tvVVAll0J6Se"
      },
      "execution_count": null,
      "outputs": []
    },
    {
      "cell_type": "code",
      "source": [
        "SELECT\n",
        "    ROUND(AVG(price), 2) AS Средняя_цена,\n",
        "    SUM(price * amount) AS Стоимость\n",
        "FROM book\n",
        "WHERE amount BETWEEN 5 AND 14;"
      ],
      "metadata": {
        "id": "_49jlShgJ6V-"
      },
      "execution_count": null,
      "outputs": []
    },
    {
      "cell_type": "code",
      "source": [
        "###"
      ],
      "metadata": {
        "id": "FSaMprazJ6Zn"
      },
      "execution_count": null,
      "outputs": []
    },
    {
      "cell_type": "code",
      "source": [
        "SELECT\n",
        "    author,\n",
        "    SUM(price * amount) AS Стоимость\n",
        "FROM book\n",
        "WHERE title NOT IN ('Идиот', 'Белая гвардия')\n",
        "GROUP BY author\n",
        "HAVING SUM(price * amount) > 5000\n",
        "ORDER BY Стоимость DESC;"
      ],
      "metadata": {
        "id": "ibzeIcAyJ6dS"
      },
      "execution_count": null,
      "outputs": []
    },
    {
      "cell_type": "code",
      "source": [
        "###"
      ],
      "metadata": {
        "id": "V-NZsGnbJ6kl"
      },
      "execution_count": null,
      "outputs": []
    },
    {
      "cell_type": "code",
      "source": [
        "SELECT\n",
        "    author,\n",
        "    SUM(amount) AS Число_экземпляров,\n",
        "    ROUND(AVG(price), 2) AS Средняя_цена\n",
        "FROM book\n",
        "WHERE amount > 1\n",
        "GROUP BY author\n",
        "HAVING SUM(price * amount) > 5000\n",
        "ORDER BY author;"
      ],
      "metadata": {
        "id": "CFOZ5a5ZJ6ov"
      },
      "execution_count": null,
      "outputs": []
    },
    {
      "cell_type": "markdown",
      "source": [
        "# **1.4 Nested Queries**\n",
        "\n",
        "---\n"
      ],
      "metadata": {
        "id": "GlO1iLwBnzCN"
      }
    },
    {
      "cell_type": "code",
      "source": [
        "###"
      ],
      "metadata": {
        "id": "UV4jhbltJ6xZ"
      },
      "execution_count": null,
      "outputs": []
    },
    {
      "cell_type": "code",
      "source": [
        "SELECT\n",
        "    author,\n",
        "    title,\n",
        "    price\n",
        "FROM book\n",
        "WHERE price <= (\n",
        "    SELECT AVG(PRICE)\n",
        "    FROM book\n",
        ")\n",
        "ORDER BY price DESC;"
      ],
      "metadata": {
        "id": "O3ZKD0ixJ61O"
      },
      "execution_count": null,
      "outputs": []
    },
    {
      "cell_type": "code",
      "source": [
        "###"
      ],
      "metadata": {
        "id": "nePgeqxuJ643"
      },
      "execution_count": null,
      "outputs": []
    },
    {
      "cell_type": "code",
      "source": [
        "SELECT\n",
        "    author,\n",
        "    title,\n",
        "    price\n",
        "FROM book\n",
        "WHERE price - (\n",
        "    SELECT MIN(price)\n",
        "    FROM book) <= 150\n",
        "ORDER BY price ASC;"
      ],
      "metadata": {
        "id": "sT5UZZ8tJ68h"
      },
      "execution_count": null,
      "outputs": []
    },
    {
      "cell_type": "code",
      "source": [
        "###"
      ],
      "metadata": {
        "id": "Qb_FXzzlJpLp"
      },
      "execution_count": null,
      "outputs": []
    },
    {
      "cell_type": "code",
      "source": [
        "SELECT\n",
        "    author, title, amount\n",
        "FROM book\n",
        "WHERE amount IN (\n",
        "SELECT\n",
        "    amount\n",
        "FROM book\n",
        "GROUP BY amount\n",
        "HAVING COUNT(amount) = 1);"
      ],
      "metadata": {
        "id": "IrcAjMSCJpPW"
      },
      "execution_count": null,
      "outputs": []
    },
    {
      "cell_type": "code",
      "source": [
        "###"
      ],
      "metadata": {
        "id": "CGmUbjRnJpTb"
      },
      "execution_count": null,
      "outputs": []
    },
    {
      "cell_type": "code",
      "source": [
        "SELECT\n",
        "    author,\n",
        "    title,\n",
        "    price\n",
        "FROM book\n",
        "WHERE price < ANY (\n",
        "    SELECT\n",
        "        MIN(price)\n",
        "    FROM book\n",
        "    GROUP BY author);"
      ],
      "metadata": {
        "id": "3EQf-HyJLpzM"
      },
      "execution_count": null,
      "outputs": []
    },
    {
      "cell_type": "code",
      "source": [
        "###"
      ],
      "metadata": {
        "id": "GrL0eF1dLp3T"
      },
      "execution_count": null,
      "outputs": []
    },
    {
      "cell_type": "code",
      "source": [
        "SELECT\n",
        "    title,\n",
        "    author,\n",
        "    amount,\n",
        "    (SELECT MAX(amount) FROM book) - amount AS Заказ\n",
        "FROM book\n",
        "WHERE amount <> (SELECT MAX(amount) FROM book);"
      ],
      "metadata": {
        "id": "7dzdZQRqLp62"
      },
      "execution_count": null,
      "outputs": []
    },
    {
      "cell_type": "code",
      "source": [
        "###"
      ],
      "metadata": {
        "id": "R5EtxRUXLp-D"
      },
      "execution_count": null,
      "outputs": []
    },
    {
      "cell_type": "code",
      "source": [
        "/*определить стоимость покупки,\n",
        "если купить самую дешевую книгу каждого автора*/\n",
        "\n",
        "SELECT\n",
        "    SUM(price)\n",
        "FROM book\n",
        "WHERE price IN (\n",
        "    SELECT\n",
        "        MIN(price)\n",
        "    FROM book\n",
        "    GROUP BY author);"
      ],
      "metadata": {
        "id": "di9M9s42J-Hv"
      },
      "execution_count": null,
      "outputs": []
    },
    {
      "cell_type": "markdown",
      "source": [
        "# **1.5 Data Correction Requests**\n",
        "\n",
        "---"
      ],
      "metadata": {
        "id": "Fyw8FrQto5gH"
      }
    },
    {
      "cell_type": "code",
      "source": [
        "###"
      ],
      "metadata": {
        "id": "g6yOBU09J-Hz"
      },
      "execution_count": null,
      "outputs": []
    },
    {
      "cell_type": "code",
      "source": [
        "CREATE TABLE supply(\n",
        "    supply_id INT PRIMARY KEY AUTO_INCREMENT,\n",
        "    title VARCHAR(50),\n",
        "    author VARCHAR(30),\n",
        "    price DECIMAL(8, 2),\n",
        "    amount INT\n",
        ")"
      ],
      "metadata": {
        "id": "4WS5Dw6OJ-H2"
      },
      "execution_count": null,
      "outputs": []
    },
    {
      "cell_type": "code",
      "source": [
        "###"
      ],
      "metadata": {
        "id": "bzSRKGzUJ-H3"
      },
      "execution_count": null,
      "outputs": []
    },
    {
      "cell_type": "code",
      "source": [
        "INSERT INTO supply (title, author, price, amount)\n",
        "VALUES\n",
        "    ('Лирика', 'Пастернак Б.Л.', 518.99, 2),\n",
        "    ('Черный человек', 'Есенин С.А.', 570.20, 6),\n",
        "    ('Белая гвардия', 'Булгаков М.А.', 540.50, 7),\n",
        "    ('Идиот', 'Достоевский Ф.М.', 360.80, 3);"
      ],
      "metadata": {
        "id": "rSaWali7J-H5"
      },
      "execution_count": null,
      "outputs": []
    },
    {
      "cell_type": "code",
      "source": [
        "###"
      ],
      "metadata": {
        "id": "zMx8hesJJ-H7"
      },
      "execution_count": null,
      "outputs": []
    },
    {
      "cell_type": "code",
      "source": [
        "INSERT INTO book (title, author, price, amount)\n",
        "SELECT\n",
        "    title,\n",
        "    author,\n",
        "    price,\n",
        "    amount\n",
        "FROM supply\n",
        "WHERE author NOT IN (\n",
        "    'Булгаков М.А.', 'Достоевский Ф.М.');"
      ],
      "metadata": {
        "id": "Pu7PqEcsJ-H8"
      },
      "execution_count": null,
      "outputs": []
    },
    {
      "cell_type": "code",
      "source": [
        "###"
      ],
      "metadata": {
        "id": "W5Na5lNDJ-H-"
      },
      "execution_count": null,
      "outputs": []
    },
    {
      "cell_type": "code",
      "source": [
        "INSERT INTO book (title, author, price, amount)\n",
        "SELECT\n",
        "    title,\n",
        "    author,\n",
        "    price,\n",
        "    amount\n",
        "FROM supply\n",
        "WHERE author NOT IN (\n",
        "    SELECT author\n",
        "    FROM book);\n",
        "SELECT * FROM book;"
      ],
      "metadata": {
        "id": "Y18sDb_QJ-H_"
      },
      "execution_count": null,
      "outputs": []
    },
    {
      "cell_type": "code",
      "source": [
        "###"
      ],
      "metadata": {
        "id": "Id1fi3VmJ-IB"
      },
      "execution_count": null,
      "outputs": []
    },
    {
      "cell_type": "code",
      "source": [
        "UPDATE book\n",
        "SET price = price * 0.9\n",
        "WHERE amount IN (5, 6, 7, 8, 9, 10);"
      ],
      "metadata": {
        "id": "FV-VaRb5J-ID"
      },
      "execution_count": null,
      "outputs": []
    },
    {
      "cell_type": "code",
      "source": [
        "###"
      ],
      "metadata": {
        "id": "8yXA1q0WJ-IE"
      },
      "execution_count": null,
      "outputs": []
    },
    {
      "cell_type": "code",
      "source": [
        "UPDATE book\n",
        "SET\n",
        "    buy = IF(buy > amount, amount, buy),\n",
        "    price = IF(buy = 0, price * 0.9, price);\n",
        "SELECT * FROM book;"
      ],
      "metadata": {
        "id": "9an9Wic1J-IF"
      },
      "execution_count": null,
      "outputs": []
    },
    {
      "cell_type": "code",
      "source": [
        "###"
      ],
      "metadata": {
        "id": "xFrj_bxhJ-IG"
      },
      "execution_count": null,
      "outputs": []
    },
    {
      "cell_type": "code",
      "source": [
        "UPDATE book, supply\n",
        "SET\n",
        "    book.amount = book.amount + supply.amount,\n",
        "    book.price = (book.price + supply.price) / 2\n",
        "WHERE\n",
        "    book.title = supply.title AND book.author = supply.author;\n",
        "SELECT * FROM book;"
      ],
      "metadata": {
        "id": "B_azaGArJ-IG"
      },
      "execution_count": null,
      "outputs": []
    },
    {
      "cell_type": "code",
      "source": [
        "###"
      ],
      "metadata": {
        "id": "55jQtTDaJ-IG"
      },
      "execution_count": null,
      "outputs": []
    },
    {
      "cell_type": "code",
      "source": [
        "DELETE FROM supply\n",
        "WHERE author IN (\n",
        "    SELECT author\n",
        "    FROM book\n",
        "    GROUP BY author\n",
        "    HAVING SUM(amount) > 10);"
      ],
      "metadata": {
        "id": "ufP0FSAsJ-IH"
      },
      "execution_count": null,
      "outputs": []
    },
    {
      "cell_type": "code",
      "source": [
        "###"
      ],
      "metadata": {
        "id": "IJA9H6XMJ-IH"
      },
      "execution_count": null,
      "outputs": []
    },
    {
      "cell_type": "code",
      "source": [
        "CREATE TABLE ordering AS\n",
        "SELECT\n",
        "    author,\n",
        "    title,\n",
        "    (SELECT ROUND(AVG(amount), 2)\n",
        "     FROM book) AS amount\n",
        "FROM book\n",
        "WHERE book.amount < (SELECT AVG(amount)\n",
        "               FROM book);"
      ],
      "metadata": {
        "id": "9ga5TEgBJ-IH"
      },
      "execution_count": null,
      "outputs": []
    },
    {
      "cell_type": "code",
      "source": [
        "###"
      ],
      "metadata": {
        "id": "j60y-CftJ-II"
      },
      "execution_count": null,
      "outputs": []
    },
    {
      "cell_type": "markdown",
      "source": [
        "Создать новую таблицу ordering, в которую занести из таблицы book книги, количество которых больше среднего количества в таблице book, при этом сделать на эти книги скидку в 30%, а в названии добавить \"SALE 30%: \".\n",
        "Например, \"SALE 30%: Мастер и Маргарита\"."
      ],
      "metadata": {
        "id": "_74o219-MvK8"
      }
    },
    {
      "cell_type": "code",
      "source": [
        "CREATE TABLE ordering AS\n",
        "SELECT\n",
        "    author,\n",
        "    CONCAT('Sale 30%: ', title) AS title,\n",
        "    ROUND(price * 0.7, 2) AS price,\n",
        "    amount\n",
        "FROM book\n",
        "WHERE amount > (\n",
        "    SELECT AVG(amount)\n",
        "    FROM book);"
      ],
      "metadata": {
        "id": "S2bsUYlsJ-II"
      },
      "execution_count": null,
      "outputs": []
    },
    {
      "cell_type": "markdown",
      "source": [
        "# **1.6 Selection Requests**\n",
        "\n",
        "---"
      ],
      "metadata": {
        "id": "gzzRJjiRaEV4"
      }
    },
    {
      "cell_type": "code",
      "source": [
        "###"
      ],
      "metadata": {
        "id": "DGtD9b_LJ-IJ"
      },
      "execution_count": null,
      "outputs": []
    },
    {
      "cell_type": "code",
      "source": [
        "SELECT\n",
        "    name,\n",
        "    city,\n",
        "    per_diem,\n",
        "    date_first,\n",
        "    date_last\n",
        "FROM trip\n",
        "WHERE name LIKE '%а _._.'\n",
        "ORDER BY date_last DESC;"
      ],
      "metadata": {
        "id": "Y1FYWij0J-IJ"
      },
      "execution_count": null,
      "outputs": []
    },
    {
      "cell_type": "code",
      "source": [
        "###"
      ],
      "metadata": {
        "id": "r-oAKng3J-IK"
      },
      "execution_count": null,
      "outputs": []
    },
    {
      "cell_type": "code",
      "source": [
        "SELECT\n",
        "    DISTINCT name\n",
        "FROM trip\n",
        "WHERE city = 'Москва'\n",
        "ORDER BY name ASC;"
      ],
      "metadata": {
        "id": "arpAdB4YJ-IK"
      },
      "execution_count": null,
      "outputs": []
    },
    {
      "cell_type": "code",
      "source": [
        "###"
      ],
      "metadata": {
        "id": "ppiYYSKeJ-IL"
      },
      "execution_count": null,
      "outputs": []
    },
    {
      "cell_type": "code",
      "source": [
        "SELECT\n",
        "    city,\n",
        "    COUNT(name) AS Количество\n",
        "FROM trip\n",
        "GROUP BY city\n",
        "ORDER BY city ASC;"
      ],
      "metadata": {
        "id": "baNPvZOiJ-IL"
      },
      "execution_count": null,
      "outputs": []
    },
    {
      "cell_type": "code",
      "source": [
        "###"
      ],
      "metadata": {
        "id": "AcDGYnpeJ-2n"
      },
      "execution_count": null,
      "outputs": []
    },
    {
      "cell_type": "code",
      "source": [
        "SELECT\n",
        "    city,\n",
        "    COUNT(name) AS Количество\n",
        "FROM trip\n",
        "GROUP BY city\n",
        "ORDER BY Количество DESC\n",
        "LIMIT 2;"
      ],
      "metadata": {
        "id": "5m5ml81GJ-2p"
      },
      "execution_count": null,
      "outputs": []
    },
    {
      "cell_type": "code",
      "source": [
        "###"
      ],
      "metadata": {
        "id": "KPvj6gBFJ-2q"
      },
      "execution_count": null,
      "outputs": []
    },
    {
      "cell_type": "code",
      "source": [
        "SELECT\n",
        "    name,\n",
        "    city,\n",
        "    DATEDIFF(date_last, date_first) + 1 AS Длительность\n",
        "FROM trip\n",
        "WHERE city NOT IN ('Москва', 'Санкт-Петербург')\n",
        "ORDER BY Длительность DESC, city DESC;"
      ],
      "metadata": {
        "id": "lgM0pyNpJ-2r"
      },
      "execution_count": null,
      "outputs": []
    },
    {
      "cell_type": "code",
      "source": [
        "###"
      ],
      "metadata": {
        "id": "2MaRBkPgJ-2s"
      },
      "execution_count": null,
      "outputs": []
    },
    {
      "cell_type": "code",
      "source": [
        "SELECT\n",
        "    name,\n",
        "    city,\n",
        "    date_first,\n",
        "    date_last\n",
        "FROM trip\n",
        "WHERE DATEDIFF(date_last, date_first) IN (\n",
        "    SELECT MIN(DATEDIFF(date_last, date_first))\n",
        "    FROM trip);"
      ],
      "metadata": {
        "id": "6rcMKBpzJ-2t"
      },
      "execution_count": null,
      "outputs": []
    },
    {
      "cell_type": "code",
      "source": [
        "###"
      ],
      "metadata": {
        "id": "01DCca4EJ-2t"
      },
      "execution_count": null,
      "outputs": []
    },
    {
      "cell_type": "code",
      "source": [
        "SELECT\n",
        "    name,\n",
        "    city,\n",
        "    date_first,\n",
        "    date_last\n",
        "FROM trip\n",
        "WHERE MONTH(date_first) = MONTH(date_last)\n",
        "ORDER BY city ASC, name ASC;"
      ],
      "metadata": {
        "id": "tWNcrAiUJ-2v"
      },
      "execution_count": null,
      "outputs": []
    },
    {
      "cell_type": "code",
      "source": [
        "###"
      ],
      "metadata": {
        "id": "vmiEnq8mJ-2v"
      },
      "execution_count": null,
      "outputs": []
    },
    {
      "cell_type": "code",
      "source": [
        "SELECT\n",
        "    MONTHNAME(date_first) AS Месяц,\n",
        "    COUNT(name) AS Количество\n",
        "FROM trip\n",
        "GROUP BY MONTHNAME(date_first)\n",
        "ORDER BY\n",
        "    COUNT(name) DESC,\n",
        "    MONTHNAME(date_first) ASC;"
      ],
      "metadata": {
        "id": "3-3eZe6xJ-2w"
      },
      "execution_count": null,
      "outputs": []
    },
    {
      "cell_type": "code",
      "source": [
        "###"
      ],
      "metadata": {
        "id": "oudbCsdTJ-2x"
      },
      "execution_count": null,
      "outputs": []
    },
    {
      "cell_type": "code",
      "source": [
        "SELECT\n",
        "    name,\n",
        "    city,\n",
        "    date_first,\n",
        "    per_diem * (DATEDIFF(date_last, date_first) + 1) AS Сумма\n",
        "FROM trip\n",
        "WHERE MONTH(date_first) IN (2, 3)\n",
        "ORDER BY name ASC, Сумма DESC;"
      ],
      "metadata": {
        "id": "WLLRN4LXJ-2y"
      },
      "execution_count": null,
      "outputs": []
    },
    {
      "cell_type": "code",
      "source": [
        "###"
      ],
      "metadata": {
        "id": "XpAHsLi3J-2y"
      },
      "execution_count": null,
      "outputs": []
    },
    {
      "cell_type": "code",
      "source": [
        "SELECT\n",
        "    name,\n",
        "    SUM(per_diem * (DATEDIFF(date_last, date_first) + 1)) AS Сумма\n",
        "FROM trip\n",
        "GROUP BY name\n",
        "HAVING COUNT(name) > 3\n",
        "ORDER BY Сумма DESC;"
      ],
      "metadata": {
        "id": "8pVSlOtHJ-20"
      },
      "execution_count": null,
      "outputs": []
    },
    {
      "cell_type": "markdown",
      "source": [
        "# **1.7 Adjustment Requests**\n",
        "\n",
        "---"
      ],
      "metadata": {
        "id": "fmUclWHHukzr"
      }
    },
    {
      "cell_type": "code",
      "source": [
        "###"
      ],
      "metadata": {
        "id": "EXvPbQ9NJ-20"
      },
      "execution_count": null,
      "outputs": []
    },
    {
      "cell_type": "code",
      "source": [
        "CREATE TABLE fine(\n",
        "    fine_id INT PRIMARY KEY AUTO_INCREMENT,\n",
        "    name VARCHAR(30),\n",
        "    number_plate VARCHAR(6),\n",
        "    violation VARCHAR(50),\n",
        "    sum_fine DECIMAL(8, 2),\n",
        "    date_violation DATE,\n",
        "    date_payment DATE\n",
        ");"
      ],
      "metadata": {
        "id": "cXk6WZCIJ-21"
      },
      "execution_count": null,
      "outputs": []
    },
    {
      "cell_type": "code",
      "source": [
        "###"
      ],
      "metadata": {
        "id": "Db2EcT4MJ-22"
      },
      "execution_count": null,
      "outputs": []
    },
    {
      "cell_type": "code",
      "source": [
        "INSERT INTO fine (\n",
        "    name, number_plate, violation,\n",
        "    sum_fine, date_violation, date_payment)\n",
        "VALUES\n",
        "    ('Баранов П.Е.', 'Р523ВТ',\n",
        "     'Превышение скорости(от 40 до 60)', NULL, '2020-02-14', NULL),\n",
        "    ('Абрамова К.А.', 'О111АВ',\n",
        "     'Проезд на запрещающий сигнал', NULL, '2020-02-23', NULL),\n",
        "    ('Яковлев Г.Р.', 'Т330ТТ',\n",
        "     'Проезд на запрещающий сигнал', NULL, '2020-03-03', NULL);"
      ],
      "metadata": {
        "id": "bYNYx0vHJ-23"
      },
      "execution_count": null,
      "outputs": []
    },
    {
      "cell_type": "code",
      "source": [
        "###"
      ],
      "metadata": {
        "id": "zNQcGIouJ-24"
      },
      "execution_count": null,
      "outputs": []
    },
    {
      "cell_type": "code",
      "source": [
        "UPDATE fine AS f, traffic_violation AS tv\n",
        "SET\n",
        "    f.sum_fine = IF(f.sum_fine IS NULL,\n",
        "       tv.sum_fine, f.sum_fine)\n",
        "WHERE f.violation = tv.violation;\n",
        "SELECT * FROM fine;"
      ],
      "metadata": {
        "id": "UqzMpQG7J-24"
      },
      "execution_count": null,
      "outputs": []
    },
    {
      "cell_type": "code",
      "source": [
        "UPDATE fine AS f, traffic_violation AS tv\n",
        "SET\n",
        "    f.sum_fine = tv.sum_fine\n",
        "WHERE\n",
        "    tv.violation = f.violation and f.sum_fine IS Null;"
      ],
      "metadata": {
        "id": "KzArcNmHJ-25"
      },
      "execution_count": null,
      "outputs": []
    },
    {
      "cell_type": "code",
      "source": [
        "###"
      ],
      "metadata": {
        "id": "nL3K7J1BJ-25"
      },
      "execution_count": null,
      "outputs": []
    },
    {
      "cell_type": "code",
      "source": [
        "SELECT\n",
        "    name,\n",
        "    number_plate,\n",
        "    violation\n",
        "FROM fine\n",
        "GROUP BY name, number_plate, violation\n",
        "HAVING COUNT(violation) >= 2\n",
        "ORDER BY name ASC, number_plate ASC, violation ASC;"
      ],
      "metadata": {
        "id": "YJE-fut4J-26"
      },
      "execution_count": null,
      "outputs": []
    },
    {
      "cell_type": "code",
      "source": [
        "###"
      ],
      "metadata": {
        "id": "s9u1Qa_dJ-28"
      },
      "execution_count": null,
      "outputs": []
    },
    {
      "cell_type": "code",
      "source": [
        "UPDATE fine,\n",
        "    (SELECT\n",
        "        name,\n",
        "        number_plate,\n",
        "        violation\n",
        "    FROM fine\n",
        "    GROUP BY name, number_plate, violation\n",
        "    HAVING COUNT(violation) >= 2\n",
        "    ORDER BY name ASC, number_plate ASC, violation ASC\n",
        "    ) AS temp_table\n",
        "SET\n",
        "    fine.sum_fine = fine.sum_fine * 2\n",
        "WHERE\n",
        "    fine.name = temp_table.name\n",
        "    AND fine.number_plate = temp_table.number_plate\n",
        "    AND fine.violation = temp_table.violation\n",
        "    AND fine.date_payment IS NULL;\n",
        "SELECT * FROM fine;"
      ],
      "metadata": {
        "id": "nG-1PVFYJ-28"
      },
      "execution_count": null,
      "outputs": []
    },
    {
      "cell_type": "code",
      "source": [
        "###"
      ],
      "metadata": {
        "id": "r5hlA0Q2J-29"
      },
      "execution_count": null,
      "outputs": []
    },
    {
      "cell_type": "code",
      "source": [
        "UPDATE fine, payment\n",
        "SET\n",
        "    fine.date_payment = payment.date_payment,\n",
        "    fine.sum_fine = IF(\n",
        "        payment.date_payment - fine.date_violation <= 20,\n",
        "        fine.sum_fine * 0.5,\n",
        "        fine.sum_fine)\n",
        "WHERE\n",
        "    fine.name = payment.name\n",
        "    AND fine.number_plate = payment.number_plate\n",
        "    AND fine.violation = payment.violation\n",
        "    AND fine.date_violation = payment.date_violation;"
      ],
      "metadata": {
        "id": "EJwCoONKJ-29"
      },
      "execution_count": null,
      "outputs": []
    },
    {
      "cell_type": "code",
      "source": [
        "###"
      ],
      "metadata": {
        "id": "adlLmE8jJ_sJ"
      },
      "execution_count": null,
      "outputs": []
    },
    {
      "cell_type": "code",
      "source": [
        "CREATE TABLE back_payment AS\n",
        "SELECT\n",
        "    name,\n",
        "    number_plate,\n",
        "    violation,\n",
        "    sum_fine,\n",
        "    date_violation\n",
        "FROM fine\n",
        "WHERE date_payment IS NULL;"
      ],
      "metadata": {
        "id": "uu2RoZUaJ_sK"
      },
      "execution_count": null,
      "outputs": []
    },
    {
      "cell_type": "code",
      "source": [
        "###"
      ],
      "metadata": {
        "id": "5heN-3w6J_sL"
      },
      "execution_count": null,
      "outputs": []
    },
    {
      "cell_type": "code",
      "source": [
        "DELETE FROM fine\n",
        "WHERE date_violation < '2020-02-01';"
      ],
      "metadata": {
        "id": "DhejvVbAJ_sM"
      },
      "execution_count": null,
      "outputs": []
    },
    {
      "cell_type": "code",
      "source": [],
      "metadata": {
        "id": "1Q-ULxyEJ_sb"
      },
      "execution_count": null,
      "outputs": []
    }
  ]
}