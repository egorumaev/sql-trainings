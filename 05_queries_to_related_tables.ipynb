{
  "nbformat": 4,
  "nbformat_minor": 0,
  "metadata": {
    "colab": {
      "provenance": []
    },
    "kernelspec": {
      "name": "python3",
      "display_name": "Python 3"
    },
    "language_info": {
      "name": "python"
    }
  },
  "cells": [
    {
      "cell_type": "markdown",
      "source": [
        "# **<font color='crimson'>Queries to Related Tables</font>**\n",
        "\n",
        "---"
      ],
      "metadata": {
        "id": "hpd23ZFpy5du"
      }
    },
    {
      "cell_type": "markdown",
      "source": [
        "# **2.1 Relationships Between Tables**\n",
        "\n",
        "---"
      ],
      "metadata": {
        "id": "fQZR927HzG3Y"
      }
    },
    {
      "cell_type": "code",
      "execution_count": null,
      "metadata": {
        "id": "oALCcpzCypAO"
      },
      "outputs": [],
      "source": [
        "###"
      ]
    },
    {
      "cell_type": "code",
      "source": [
        "CREATE TABLE author(\n",
        "    author_id INT PRIMARY KEY AUTO_INCREMENT,\n",
        "    name_author VARCHAR(50))\n",
        ";"
      ],
      "metadata": {
        "id": "GsR-EFD3yuaQ"
      },
      "execution_count": null,
      "outputs": []
    },
    {
      "cell_type": "code",
      "source": [
        "###"
      ],
      "metadata": {
        "id": "RgvJMdcEyudt"
      },
      "execution_count": null,
      "outputs": []
    },
    {
      "cell_type": "code",
      "source": [
        "INSERT INTO author (name_author)\n",
        "VALUES\n",
        "    ('Булгаков М.А.'),\n",
        "    ('Достоевский Ф.М.'),\n",
        "    ('Есенин С.А.'),\n",
        "    ('Пастернак Б.Л.');"
      ],
      "metadata": {
        "id": "Uvw40c_5yuhS"
      },
      "execution_count": null,
      "outputs": []
    },
    {
      "cell_type": "code",
      "source": [
        "###"
      ],
      "metadata": {
        "id": "GgO0RLXXyukg"
      },
      "execution_count": null,
      "outputs": []
    },
    {
      "cell_type": "code",
      "source": [
        "CREATE TABLE book (\n",
        "    book_id INT PRIMARY KEY AUTO_INCREMENT,\n",
        "    title VARCHAR(50),\n",
        "    author_id INT NOT NULL,\n",
        "    genre_id INT,\n",
        "    price DECIMAL(8, 2),\n",
        "    amount INT,\n",
        "    FOREIGN KEY (author_id) REFERENCES author (author_id),\n",
        "    FOREIGN KEY (genre_id) REFERENCES genre (genre_id)\n",
        ");"
      ],
      "metadata": {
        "id": "nQTZ1PW0yun8"
      },
      "execution_count": null,
      "outputs": []
    },
    {
      "cell_type": "code",
      "source": [
        "###"
      ],
      "metadata": {
        "id": "0oX2rzoKyurA"
      },
      "execution_count": null,
      "outputs": []
    },
    {
      "cell_type": "code",
      "source": [
        "CREATE TABLE book (\n",
        "    book_id INT PRIMARY KEY AUTO_INCREMENT,\n",
        "    title VARCHAR(50),\n",
        "    author_id INT,\n",
        "    genre_id INT,\n",
        "    price DECIMAL(8, 2),\n",
        "    amount INT,\n",
        "    FOREIGN KEY (author_id) REFERENCES author (author_id) ON DELETE CASCADE,\n",
        "    FOREIGN KEY (genre_id) REFERENCES genre (genre_id) ON DELETE SET NULL\n",
        ")"
      ],
      "metadata": {
        "id": "qvI7n-Muyuuj"
      },
      "execution_count": null,
      "outputs": []
    },
    {
      "cell_type": "code",
      "source": [
        "###"
      ],
      "metadata": {
        "id": "B5u0B2qEyuxv"
      },
      "execution_count": null,
      "outputs": []
    },
    {
      "cell_type": "code",
      "source": [
        "INSERT INTO book (\n",
        "    title, author_id, genre_id, price, amount)\n",
        "VALUES\n",
        "    ('Стихотворения и поэмы', 3, 2, 650.00, 15),\n",
        "    ('Черный человек', 3, 2, 570.20, 6),\n",
        "    ('Лирика', 4, 2, 518.99, 2);\n",
        "SELECT * FROM book;"
      ],
      "metadata": {
        "id": "slZBDXJ2yu1Q"
      },
      "execution_count": null,
      "outputs": []
    },
    {
      "cell_type": "markdown",
      "source": [
        "# **2.2 Selection Queries, Joining Tables**\n",
        "\n",
        "---"
      ],
      "metadata": {
        "id": "ItJDJaHUT3oI"
      }
    },
    {
      "cell_type": "code",
      "source": [
        "###"
      ],
      "metadata": {
        "id": "0JwPyKeGyu5V"
      },
      "execution_count": null,
      "outputs": []
    },
    {
      "cell_type": "code",
      "execution_count": null,
      "metadata": {
        "id": "yRs7RQLcywz3"
      },
      "outputs": [],
      "source": [
        "SELECT\n",
        "    book.title,\n",
        "    genre.name_genre,\n",
        "    book.price\n",
        "FROM\n",
        "    book INNER JOIN genre\n",
        "    ON book.genre_id = genre.genre_id\n",
        "WHERE book.amount > 8\n",
        "ORDER BY book.price DESC;"
      ]
    },
    {
      "cell_type": "code",
      "source": [
        "###"
      ],
      "metadata": {
        "id": "BQaPTyXRywz4"
      },
      "execution_count": null,
      "outputs": []
    },
    {
      "cell_type": "code",
      "source": [
        "SELECT genre.name_genre\n",
        "FROM\n",
        "    genre LEFT JOIN book\n",
        "    ON genre.genre_id = book.genre_id\n",
        "WHERE book.title IS NULL;"
      ],
      "metadata": {
        "id": "vO2BbRQXywz5"
      },
      "execution_count": null,
      "outputs": []
    },
    {
      "cell_type": "code",
      "source": [
        "###"
      ],
      "metadata": {
        "id": "Sdtrav_Uywz5"
      },
      "execution_count": null,
      "outputs": []
    },
    {
      "cell_type": "code",
      "source": [
        "SELECT\n",
        "    city.name_city,\n",
        "    author.name_author,\n",
        "    DATE_ADD('2020-01-01', INTERVAL FLOOR(RAND() * 365) DAY) AS Дата\n",
        "FROM\n",
        "    city CROSS JOIN author\n",
        "ORDER BY name_city, Дата DESC;"
      ],
      "metadata": {
        "id": "3R2qvFqgywz5"
      },
      "execution_count": null,
      "outputs": []
    },
    {
      "cell_type": "code",
      "source": [
        "###"
      ],
      "metadata": {
        "id": "YS4F2KGKywz5"
      },
      "execution_count": null,
      "outputs": []
    },
    {
      "cell_type": "code",
      "source": [
        "SELECT\n",
        "    genre.name_genre,\n",
        "    book.title,\n",
        "    author.name_author\n",
        "FROM\n",
        "    genre INNER JOIN book\n",
        "    ON genre.genre_id = book.genre_id\n",
        "    INNER JOIN author\n",
        "    ON book.author_id= author.author_id\n",
        "WHERE genre.name_genre  LIKE '%роман%'\n",
        "ORDER BY title ASC;"
      ],
      "metadata": {
        "id": "fzSrWCoaywz6"
      },
      "execution_count": null,
      "outputs": []
    },
    {
      "cell_type": "code",
      "source": [
        "###"
      ],
      "metadata": {
        "id": "UFfWrOZyywz6"
      },
      "execution_count": null,
      "outputs": []
    },
    {
      "cell_type": "code",
      "source": [
        "SELECT\n",
        "    author.name_author,\n",
        "    SUM(book.amount) AS Количество\n",
        "FROM\n",
        "    author LEFT JOIN book\n",
        "    ON author.author_id = book.author_id\n",
        "GROUP BY author.name_author\n",
        "HAVING SUM(book.amount) < 10 OR SUM(book.amount) IS NULL\n",
        "ORDER BY SUM(book.amount) ASC;"
      ],
      "metadata": {
        "id": "JTJf_g8Pywz6"
      },
      "execution_count": null,
      "outputs": []
    },
    {
      "cell_type": "code",
      "source": [
        "###"
      ],
      "metadata": {
        "id": "9mRc_k3Vywz6"
      },
      "execution_count": null,
      "outputs": []
    },
    {
      "cell_type": "code",
      "source": [
        "SELECT author.name_author\n",
        "FROM\n",
        "    book INNER JOIN author\n",
        "    ON author.author_id = book.author_id\n",
        "    INNER JOIN genre\n",
        "    ON book.genre_id = genre.genre_id\n",
        "GROUP BY author.name_author\n",
        "HAVING COUNT(DISTINCT genre.name_genre) = 1;"
      ],
      "metadata": {
        "id": "CSEasX0iywz6"
      },
      "execution_count": null,
      "outputs": []
    },
    {
      "cell_type": "code",
      "execution_count": null,
      "metadata": {
        "id": "otERAjK3yxJk"
      },
      "outputs": [],
      "source": [
        "###"
      ]
    },
    {
      "cell_type": "code",
      "source": [
        "SELECT\n",
        "    book.title,\n",
        "    author.name_author,\n",
        "    genre.name_genre,\n",
        "    book.price,\n",
        "    book.amount\n",
        "FROM book\n",
        "    INNER JOIN author ON book.author_id = author.author_id\n",
        "    INNER JOIN genre ON genre.genre_id = book.genre_id\n",
        "WHERE book.genre_id IN (\n",
        "    SELECT query_1.genre_id\n",
        "    FROM\n",
        "        (SELECT\n",
        "            book.genre_id,\n",
        "            SUM(book.amount) AS sum_amount\n",
        "        FROM book\n",
        "        GROUP BY book.genre_id) AS query_1\n",
        "    INNER JOIN\n",
        "        (SELECT\n",
        "            book.genre_id,\n",
        "            SUM(book.amount) AS sum_amount\n",
        "        FROM book\n",
        "        GROUP BY book.genre_id\n",
        "        ORDER BY SUM(book.amount) DESC\n",
        "        LIMIT 1) AS query_2\n",
        "    ON query_1.sum_amount  = query_2.sum_amount)\n",
        "ORDER BY title ASC;"
      ],
      "metadata": {
        "id": "rkzcUTBeyxJl"
      },
      "execution_count": null,
      "outputs": []
    },
    {
      "cell_type": "code",
      "source": [
        "###"
      ],
      "metadata": {
        "id": "5n2nmEyI00Sb"
      },
      "execution_count": null,
      "outputs": []
    },
    {
      "cell_type": "code",
      "source": [
        "SELECT\n",
        "    book.title AS Название,\n",
        "    supply.author AS Автор,\n",
        "    book.amount + supply.amount AS Количество\n",
        "FROM book\n",
        "    INNER JOIN supply USING (title)\n",
        "WHERE book.price = supply.price;"
      ],
      "metadata": {
        "id": "RIBkUJHGyxJl"
      },
      "execution_count": null,
      "outputs": []
    },
    {
      "cell_type": "code",
      "source": [
        "###"
      ],
      "metadata": {
        "id": "WeZRcMH9yxJm"
      },
      "execution_count": null,
      "outputs": []
    },
    {
      "cell_type": "markdown",
      "source": [
        "The cheapest books of each genre."
      ],
      "metadata": {
        "id": "awuVjJgtC1XO"
      }
    },
    {
      "cell_type": "code",
      "source": [
        "SELECT\n",
        "    author.name_author,\n",
        "    book.title,\n",
        "    book.price,\n",
        "    genre.name_genre\n",
        "FROM\n",
        "    book\n",
        "    INNER JOIN genre\n",
        "    ON book.genre_id = genre.genre_id\n",
        "    INNER JOIN author\n",
        "    ON book.author_id = author.author_id\n",
        "WHERE price IN (\n",
        "    SELECT\n",
        "        MIN(book.price) AS price\n",
        "    FROM\n",
        "        book\n",
        "        INNER JOIN genre\n",
        "        ON book.genre_id = genre.genre_id\n",
        "        INNER JOIN author\n",
        "        ON book.author_id = author.author_id\n",
        "    GROUP BY name_genre)\n",
        "ORDER BY name_author;"
      ],
      "metadata": {
        "id": "ZSZMVyWwyxJm"
      },
      "execution_count": null,
      "outputs": []
    },
    {
      "cell_type": "markdown",
      "source": [
        "# **2.3 Selection Requests, Joining Tables**\n",
        "\n",
        "---"
      ],
      "metadata": {
        "id": "mGpgVJluONlr"
      }
    },
    {
      "cell_type": "code",
      "source": [
        "###"
      ],
      "metadata": {
        "id": "ZWziMZrAyxJm"
      },
      "execution_count": null,
      "outputs": []
    },
    {
      "cell_type": "code",
      "source": [
        "UPDATE\n",
        "    book INNER JOIN author\n",
        "    ON book.author_id = author.author_id\n",
        "    INNER JOIN supply\n",
        "    ON book.title = supply.title\n",
        "        AND supply.author = author.name_author\n",
        "SET\n",
        "    book.price = (\n",
        "        book.price * book.amount + supply.price * supply.amount) / (\n",
        "            book.amount + supply.amount),\n",
        "    book.amount = book.amount + supply.amount,\n",
        "    supply.amount = 0\n",
        "WHERE\n",
        "    book.price <> supply.price;\n",
        "\n",
        "SELECT * FROM book;\n",
        "SELECT * FROM supply;"
      ],
      "metadata": {
        "id": "aZT72pC0yxJn"
      },
      "execution_count": null,
      "outputs": []
    },
    {
      "cell_type": "code",
      "source": [
        "###"
      ],
      "metadata": {
        "id": "9htkXAw6yxJn"
      },
      "execution_count": null,
      "outputs": []
    },
    {
      "cell_type": "code",
      "source": [
        "INSERT INTO author (name_author)\n",
        "SELECT\n",
        "    supply.author\n",
        "FROM author\n",
        "    RIGHT JOIN supply\n",
        "    ON author.name_author = supply.author\n",
        "WHERE author.name_author IS NULL;"
      ],
      "metadata": {
        "id": "VbPK97lhyxJn"
      },
      "execution_count": null,
      "outputs": []
    },
    {
      "cell_type": "code",
      "source": [
        "###"
      ],
      "metadata": {
        "id": "dJRiun3SyxJo"
      },
      "execution_count": null,
      "outputs": []
    },
    {
      "cell_type": "code",
      "source": [
        "INSERT INTO book (\n",
        "    title, author_id, price, amount)\n",
        "SELECT\n",
        "    supply.title,\n",
        "    author.author_id,\n",
        "    supply.price,\n",
        "    supply.amount\n",
        "FROM supply\n",
        "    INNER JOIN author\n",
        "    ON supply.author = author.name_author\n",
        "WHERE amount <> 0;\n",
        "\n",
        "SELECT * FROM book;"
      ],
      "metadata": {
        "id": "6pRF9HaPyxJo"
      },
      "execution_count": null,
      "outputs": []
    },
    {
      "cell_type": "code",
      "execution_count": null,
      "metadata": {
        "id": "bLs1RMm1yxd7"
      },
      "outputs": [],
      "source": [
        "###"
      ]
    },
    {
      "cell_type": "code",
      "source": [
        "UPDATE book\n",
        "SET\n",
        "    book.genre_id = 2\n",
        "WHERE book.book_id = 10;\n",
        "\n",
        "UPDATE book\n",
        "SET\n",
        "    book.genre_id = (\n",
        "    SELECT genre.genre_id\n",
        "    FROM genre\n",
        "    WHERE genre.name_genre = 'Приключения')\n",
        "WHERE book.book_id = 11;\n",
        "\n",
        "SELECT * FROM book;"
      ],
      "metadata": {
        "id": "URn79qKJyxd8"
      },
      "execution_count": null,
      "outputs": []
    },
    {
      "cell_type": "code",
      "source": [
        "###"
      ],
      "metadata": {
        "id": "ZJ8cIeRnyxd9"
      },
      "execution_count": null,
      "outputs": []
    },
    {
      "cell_type": "code",
      "source": [
        "DELETE FROM book\n",
        "WHERE author_id IN (\n",
        "    SELECT book.author_id\n",
        "    FROM (SELECT * FROM book) AS book_copy\n",
        "    GROUP BY book.author_id\n",
        "    HAVING SUM(book.amount) < 20);"
      ],
      "metadata": {
        "id": "bURyOG6eyxd9"
      },
      "execution_count": null,
      "outputs": []
    },
    {
      "cell_type": "code",
      "source": [
        "###"
      ],
      "metadata": {
        "id": "mmAr3jeHyxd-"
      },
      "execution_count": null,
      "outputs": []
    },
    {
      "cell_type": "code",
      "source": [
        "DELETE FROM genre\n",
        "WHERE genre.genre_id IN (\n",
        "    SELECT\n",
        "        book.genre_id\n",
        "    FROM book\n",
        "    GROUP BY book.genre_id\n",
        "    HAVING COUNT(book.title) < 4);"
      ],
      "metadata": {
        "id": "8NpA7PpNyxd-"
      },
      "execution_count": null,
      "outputs": []
    },
    {
      "cell_type": "code",
      "source": [
        "###"
      ],
      "metadata": {
        "id": "Fg-i9bJxyxeB"
      },
      "execution_count": null,
      "outputs": []
    },
    {
      "cell_type": "code",
      "source": [
        "DELETE FROM author\n",
        "USING\n",
        "    author\n",
        "    INNER JOIN book\n",
        "    ON book.author_id = author.author_id\n",
        "    INNER JOIN genre\n",
        "    ON book.genre_id = genre.genre_id\n",
        "WHERE genre.name_genre = 'Поэзия';"
      ],
      "metadata": {
        "id": "G6HAgYcZyxeC"
      },
      "execution_count": null,
      "outputs": []
    },
    {
      "cell_type": "code",
      "source": [
        "###"
      ],
      "metadata": {
        "id": "5KB0ObwUyxeC"
      },
      "execution_count": null,
      "outputs": []
    },
    {
      "cell_type": "markdown",
      "source": [
        "Remove those authors from the author and book tables who have books in the book table whose titles consist of two or more words."
      ],
      "metadata": {
        "id": "LkeCashxEccG"
      }
    },
    {
      "cell_type": "code",
      "source": [
        "DELETE FROM author\n",
        "USING\n",
        "    author\n",
        "    INNER JOIN book\n",
        "    ON author.author_id = book.author_id\n",
        "WHERE book.title LIKE '% %';"
      ],
      "metadata": {
        "id": "l3OO-5ymyxeD"
      },
      "execution_count": null,
      "outputs": []
    },
    {
      "cell_type": "markdown",
      "source": [
        "# **2.4 The Database 'Online Book Store', Selection Requests**\n",
        "\n",
        "---"
      ],
      "metadata": {
        "id": "4Ftqc6E3H49j"
      }
    },
    {
      "cell_type": "code",
      "source": [
        "###"
      ],
      "metadata": {
        "id": "b68FomP8yxeD"
      },
      "execution_count": null,
      "outputs": []
    },
    {
      "cell_type": "code",
      "execution_count": null,
      "metadata": {
        "id": "j01kEH7EyxtL"
      },
      "outputs": [],
      "source": [
        "SELECT\n",
        "    buy.buy_id,\n",
        "    book.title,\n",
        "    book.price,\n",
        "    buy_book.amount\n",
        "FROM client\n",
        "    INNER JOIN buy\n",
        "        ON client.client_id = buy.client_id\n",
        "    INNER JOIN buy_book\n",
        "        ON buy.buy_id = buy_book.buy_id\n",
        "    INNER JOIN book\n",
        "        ON buy_book.book_id = book.book_id\n",
        "WHERE client.name_client = 'Баранов Павел'\n",
        "ORDER BY buy.buy_id ASC, book.title ASC;"
      ]
    },
    {
      "cell_type": "code",
      "source": [
        "###"
      ],
      "metadata": {
        "id": "rbAJRYlbyxtM"
      },
      "execution_count": null,
      "outputs": []
    },
    {
      "cell_type": "code",
      "source": [
        "SELECT\n",
        "    author.name_author,\n",
        "    book.title,\n",
        "    COUNT(buy_book.amount) AS Количество\n",
        "FROM author\n",
        "    INNER JOIN book\n",
        "        ON author.author_id = book.author_id\n",
        "    LEFT JOIN buy_book\n",
        "        ON book.book_id = buy_book.book_id\n",
        "GROUP BY author.name_author, book.title\n",
        "ORDER BY author.name_author ASC, book.title ASC;"
      ],
      "metadata": {
        "id": "rwonXMOWyxtM"
      },
      "execution_count": null,
      "outputs": []
    },
    {
      "cell_type": "code",
      "source": [
        "###"
      ],
      "metadata": {
        "id": "W2n7mOrFyxtN"
      },
      "execution_count": null,
      "outputs": []
    },
    {
      "cell_type": "code",
      "source": [
        "SELECT\n",
        "    city.name_city,\n",
        "    COUNT(buy.buy_id) AS Количество\n",
        "FROM city\n",
        "    INNER JOIN client\n",
        "        ON city.city_id = client.city_id\n",
        "    INNER JOIN buy\n",
        "        ON client.client_id = buy.client_id\n",
        "GROUP BY city.name_city\n",
        "ORDER BY\n",
        "    SUM(buy.buy_id) DESC,\n",
        "    city.name_city ASC;"
      ],
      "metadata": {
        "id": "5I5vNfkPyxtO"
      },
      "execution_count": null,
      "outputs": []
    },
    {
      "cell_type": "code",
      "source": [
        "###"
      ],
      "metadata": {
        "id": "GmJkVyscyxtO"
      },
      "execution_count": null,
      "outputs": []
    },
    {
      "cell_type": "code",
      "source": [
        "SELECT\n",
        "    buy_step.buy_id,\n",
        "    buy_step.date_step_end\n",
        "FROM buy_step\n",
        "    INNER JOIN step\n",
        "        ON step.step_id = buy_step.step_id\n",
        "WHERE\n",
        "    step.name_step = 'Оплата'\n",
        "    AND buy_step.date_step_end IS NOT NULL;"
      ],
      "metadata": {
        "id": "5neMq0ZiyxtP"
      },
      "execution_count": null,
      "outputs": []
    },
    {
      "cell_type": "code",
      "source": [
        "###"
      ],
      "metadata": {
        "id": "9hDYj2WwyxtP"
      },
      "execution_count": null,
      "outputs": []
    },
    {
      "cell_type": "code",
      "source": [
        "SELECT\n",
        "    buy.buy_id,\n",
        "    client.name_client,\n",
        "    SUM(buy_book.amount * book.price) AS Стоимость\n",
        "FROM client\n",
        "    INNER JOIN buy\n",
        "        ON client.client_id = buy.client_id\n",
        "    INNER JOIN buy_book\n",
        "        ON buy.buy_id = buy_book.buy_id\n",
        "    INNER JOIN book\n",
        "        ON buy_book.book_id = book.book_id\n",
        "GROUP BY\n",
        "    buy.buy_id,\n",
        "    client.name_client\n",
        "ORDER BY buy.buy_id;"
      ],
      "metadata": {
        "id": "BdM0nRzAyxtQ"
      },
      "execution_count": null,
      "outputs": []
    },
    {
      "cell_type": "code",
      "source": [
        "###"
      ],
      "metadata": {
        "id": "49IkhJpiVx0u"
      },
      "execution_count": null,
      "outputs": []
    },
    {
      "cell_type": "code",
      "source": [
        "SELECT\n",
        "    buy_step.buy_id,\n",
        "    step.name_step\n",
        "FROM step\n",
        "    INNER JOIN buy_step\n",
        "        ON step.step_id = buy_step.step_id\n",
        "WHERE buy_step.date_step_beg IS NOT NULL\n",
        "    AND buy_step.date_step_end IS NULL;"
      ],
      "metadata": {
        "id": "rAJdOn-cVx7k"
      },
      "execution_count": null,
      "outputs": []
    },
    {
      "cell_type": "code",
      "source": [
        "###"
      ],
      "metadata": {
        "id": "Gg7OU08RyxtQ"
      },
      "execution_count": null,
      "outputs": []
    },
    {
      "cell_type": "code",
      "source": [
        "SELECT\n",
        "    buy.buy_id,\n",
        "    DATEDIFF(\n",
        "        buy_step.date_step_end,\n",
        "        buy_step.date_step_beg) AS Количество_дней,\n",
        "    IF(DATEDIFF(\n",
        "        buy_step.date_step_end,\n",
        "        buy_step.date_step_beg) > city.days_delivery,\n",
        "       ABS(DATEDIFF(\n",
        "        buy_step.date_step_end,\n",
        "        buy_step.date_step_beg) - city.days_delivery),\n",
        "       0) AS Опоздание\n",
        "FROM city\n",
        "    INNER JOIN client\n",
        "        ON city.city_id = client.city_id\n",
        "    INNER JOIN buy\n",
        "        ON client.client_id = buy.client_id\n",
        "    INNER JOIN buy_step\n",
        "        ON buy.buy_id = buy_step.buy_id\n",
        "    INNER JOIN step\n",
        "        ON buy_step.step_id = step.step_id\n",
        "WHERE step.name_step = 'Транспортировка'\n",
        "    AND (buy_step.date_step_beg IS NOT NULL\n",
        "         AND buy_step.date_step_end IS NOT NULL)\n",
        "ORDER BY buy.buy_id;"
      ],
      "metadata": {
        "id": "M8ewVVMVyxtQ"
      },
      "execution_count": null,
      "outputs": []
    },
    {
      "cell_type": "code",
      "execution_count": null,
      "metadata": {
        "id": "BC2jCEB3yx5r"
      },
      "outputs": [],
      "source": [
        "###"
      ]
    },
    {
      "cell_type": "code",
      "source": [
        "SELECT\n",
        "    DISTINCT client.name_client\n",
        "FROM client\n",
        "    INNER JOIN buy\n",
        "        ON client.client_id = buy.client_id\n",
        "    INNER JOIN buy_book\n",
        "        ON buy.buy_id = buy_book.buy_id\n",
        "    INNER JOIN book\n",
        "        ON buy_book.buy_id = book.book_id\n",
        "    INNER JOIN author\n",
        "        ON book.author_id = author.author_id\n",
        "WHERE author.name_author = 'Достоевский Ф.М.'\n",
        "ORDER BY name_client ASC;"
      ],
      "metadata": {
        "id": "ud29D5_xyx5s"
      },
      "execution_count": null,
      "outputs": []
    },
    {
      "cell_type": "code",
      "source": [
        "###"
      ],
      "metadata": {
        "id": "YnnGhF9Qyx5t"
      },
      "execution_count": null,
      "outputs": []
    },
    {
      "cell_type": "code",
      "source": [
        "SELECT\n",
        "    genre.name_genre,\n",
        "    SUM(buy_book.amount) AS Количество\n",
        "FROM genre\n",
        "    INNER JOIN book\n",
        "        ON genre.genre_id = book.genre_id\n",
        "    INNER JOIN buy_book\n",
        "        ON book.book_id = buy_book.book_id\n",
        "GROUP BY genre.name_genre\n",
        "HAVING SUM(buy_book.amount) IN (\n",
        "    SELECT\n",
        "        MAX(sum_amount)\n",
        "    FROM (\n",
        "        SELECT\n",
        "            SUM(buy_book.amount) AS sum_amount\n",
        "        FROM genre\n",
        "            INNER JOIN book\n",
        "                ON genre.genre_id = book.genre_id\n",
        "            INNER JOIN buy_book\n",
        "                ON book.book_id = buy_book.book_id\n",
        "        GROUP BY genre.name_genre) AS temp_table);"
      ],
      "metadata": {
        "id": "Xzx2JrHLyx5t"
      },
      "execution_count": null,
      "outputs": []
    },
    {
      "cell_type": "code",
      "source": [
        "###"
      ],
      "metadata": {
        "id": "tD6Ftx0-yx5u"
      },
      "execution_count": null,
      "outputs": []
    },
    {
      "cell_type": "code",
      "source": [
        "SELECT\n",
        "    YEAR(buy_archive.date_payment) AS Год,\n",
        "    MONTHNAME(buy_archive.date_payment) AS Месяц,\n",
        "    SUM(buy_archive.price * buy_archive.amount)AS Сумма\n",
        "FROM\n",
        "    buy_archive\n",
        "GROUP BY Год, Месяц\n",
        "UNION\n",
        "SELECT\n",
        "    YEAR(buy_step.date_step_end) AS Год,\n",
        "    MONTHNAME(buy_step.date_step_end) AS Месяц,\n",
        "    SUM(buy_book.amount * book.price) AS Сумма\n",
        "FROM step\n",
        "    INNER JOIN buy_step USING(step_id)\n",
        "    INNER JOIN buy USING(buy_id)\n",
        "    INNER JOIN buy_book USING(buy_id)\n",
        "    INNER JOIN book USING(book_id)\n",
        "WHERE\n",
        "    buy_step.date_step_end IS NOT NULL\n",
        "    AND step.name_step = 'Оплата'\n",
        "GROUP BY Год, Месяц\n",
        "ORDER BY МЕСЯЦ ASC, Год ASC;"
      ],
      "metadata": {
        "id": "Ris3C2idyx5u"
      },
      "execution_count": null,
      "outputs": []
    },
    {
      "cell_type": "code",
      "source": [
        "###"
      ],
      "metadata": {
        "id": "CxAm5biRyx5v"
      },
      "execution_count": null,
      "outputs": []
    },
    {
      "cell_type": "code",
      "source": [
        "SELECT\n",
        "    title,\n",
        "    SUM(Количество) AS Количество,\n",
        "    SUM(Сумма) AS Сумма\n",
        "FROM(\n",
        "    SELECT\n",
        "        book.title,\n",
        "        SUM(buy_archive.amount) AS Количество,\n",
        "        SUM(buy_archive.amount * buy_archive.price) AS Сумма\n",
        "    FROM buy_archive\n",
        "        INNER JOIN book USING(book_id)\n",
        "    GROUP BY book.title\n",
        "    UNION\n",
        "    SELECT\n",
        "        book.title,\n",
        "        SUM(buy_book.amount) AS Количество,\n",
        "        SUM(buy_book.amount * book.price) AS Сумма\n",
        "    FROM book\n",
        "        INNER JOIN buy_book USING(book_id)\n",
        "        INNER JOIN buy USING(buy_id)\n",
        "        INNER JOIN buy_step USING(buy_id)\n",
        "        INNER JOIN step USING(step_id)\n",
        "    WHERE\n",
        "        buy_step.date_step_end IS NOT NULL\n",
        "        AND step.name_step = 'Оплата'\n",
        "    GROUP BY book.title) as temp_query\n",
        "GROUP BY title\n",
        "ORDER BY Сумма DESC;"
      ],
      "metadata": {
        "id": "gioiYilzyx5v"
      },
      "execution_count": null,
      "outputs": []
    },
    {
      "cell_type": "code",
      "source": [
        "###"
      ],
      "metadata": {
        "id": "iUoegcaMyx5w"
      },
      "execution_count": null,
      "outputs": []
    },
    {
      "cell_type": "markdown",
      "source": [
        "Print the titles of books (indicating the authors) that have never been ordered, sorted alphabetically. Specify the number of available copies in the warehouse."
      ],
      "metadata": {
        "id": "InYiuZqILHDi"
      }
    },
    {
      "cell_type": "code",
      "source": [
        "SELECT\n",
        "    book.title,\n",
        "    author.name_author,\n",
        "    book.amount\n",
        "FROM author\n",
        "    INNER JOIN book USING(author_id)\n",
        "WHERE book.book_id NOT IN (\n",
        "    SELECT\n",
        "        book.book_id\n",
        "    FROM author\n",
        "        INNER JOIN book USING(author_id)\n",
        "        INNER JOIN buy_book USING(book_id)\n",
        "    GROUP BY\n",
        "        book.book_id,\n",
        "        book.title,\n",
        "        author.name_author)\n",
        "ORDER BY title ASC;"
      ],
      "metadata": {
        "id": "_JKVTDvQyx5w"
      },
      "execution_count": null,
      "outputs": []
    },
    {
      "cell_type": "markdown",
      "source": [
        "# **2.5 The Database 'Online Book Store', Correction Requests**\n",
        "\n",
        "---"
      ],
      "metadata": {
        "id": "Nu3Q3nacQL2E"
      }
    },
    {
      "cell_type": "code",
      "source": [
        "###"
      ],
      "metadata": {
        "id": "GZuRVrwTyx5x"
      },
      "execution_count": null,
      "outputs": []
    },
    {
      "cell_type": "code",
      "execution_count": null,
      "metadata": {
        "id": "_X-teMrEyyLb"
      },
      "outputs": [],
      "source": [
        "INSERT INTO client (\n",
        "    name_client, city_id, email)\n",
        "SELECT\n",
        "    'Попов Илья', city_id, 'popov@test'\n",
        "FROM city\n",
        "WHERE name_city LIKE 'Москва';\n",
        "SELECT * FROM client;"
      ]
    },
    {
      "cell_type": "code",
      "source": [
        "###"
      ],
      "metadata": {
        "id": "SgLkNmSxwFvo"
      },
      "execution_count": null,
      "outputs": []
    },
    {
      "cell_type": "code",
      "source": [
        "INSERT INTO buy (\n",
        "    buy_description, client_id)\n",
        "SELECT\n",
        "    'Связаться со мной по вопросу доставки',\n",
        "    client_id\n",
        "FROM client\n",
        "WHERE client.name_client LIKE 'Попов Илья';\n",
        "SELECT * FROM buy;"
      ],
      "metadata": {
        "id": "zcdaWv8CwFyd"
      },
      "execution_count": null,
      "outputs": []
    },
    {
      "cell_type": "code",
      "source": [
        "###"
      ],
      "metadata": {
        "id": "muuomMBywF1i"
      },
      "execution_count": null,
      "outputs": []
    },
    {
      "cell_type": "code",
      "source": [
        "INSERT INTO buy_book (\n",
        "    buy_id, book_id, amount)\n",
        "SELECT 5, book.book_id, 2\n",
        "FROM book\n",
        "    INNER JOIN author USING(author_id)\n",
        "WHERE\n",
        "    author.name_author = 'Пастернак Б.Л.'\n",
        "    AND book.title = 'Лирика';\n",
        "\n",
        "INSERT INTO buy_book (\n",
        "    buy_id, book_id, amount)\n",
        "SELECT 5, book.book_id, 1\n",
        "FROM book\n",
        "    INNER JOIN author USING(author_id)\n",
        "WHERE\n",
        "    author.name_author = 'Булгаков М.А.'\n",
        "    AND book.title = 'Белая гвардия';"
      ],
      "metadata": {
        "id": "REOMQ4hgwF4v"
      },
      "execution_count": null,
      "outputs": []
    },
    {
      "cell_type": "code",
      "source": [
        "###"
      ],
      "metadata": {
        "id": "yuAIL-4pwF76"
      },
      "execution_count": null,
      "outputs": []
    },
    {
      "cell_type": "code",
      "source": [
        "UPDATE\n",
        "    book INNER JOIN buy_book USING(book_id)\n",
        "SET\n",
        "    book.amount = book.amount - buy_book.amount\n",
        "WHERE\n",
        "    buy_book.buy_id = 5;"
      ],
      "metadata": {
        "id": "gqROIBrfwF_V"
      },
      "execution_count": null,
      "outputs": []
    },
    {
      "cell_type": "code",
      "source": [
        "###"
      ],
      "metadata": {
        "id": "4QFEZSiSwGCX"
      },
      "execution_count": null,
      "outputs": []
    },
    {
      "cell_type": "code",
      "source": [
        "CREATE TABLE buy_pay AS\n",
        "SELECT\n",
        "    book.title,\n",
        "    author.name_author,\n",
        "    book.price,\n",
        "    buy_book.amount,\n",
        "    book.price * buy_book.amount AS Стоимость\n",
        "FROM author\n",
        "    INNER JOIN book USING(author_id)\n",
        "    INNER JOIN buy_book USING(book_id)\n",
        "WHERE buy_book.buy_id = 5\n",
        "ORDER BY book.title;\n",
        "\n",
        "SELECT * FROM buy_pay;"
      ],
      "metadata": {
        "id": "sbquUgXXyyLc"
      },
      "execution_count": null,
      "outputs": []
    },
    {
      "cell_type": "code",
      "source": [
        "###"
      ],
      "metadata": {
        "id": "CYqEMZgb8CM3"
      },
      "execution_count": null,
      "outputs": []
    },
    {
      "cell_type": "code",
      "source": [
        "CREATE TABLE buy_pay AS\n",
        "SELECT\n",
        "    buy_book.buy_id,\n",
        "    SUM(buy_book.amount) AS Количество,\n",
        "    SUM(book.price * buy_book.amount) AS Итого\n",
        "FROM buy_book\n",
        "    INNER JOIN book USING(book_id)\n",
        "WHERE buy_book.buy_id = 5;"
      ],
      "metadata": {
        "id": "HjPFEOVq8CQT"
      },
      "execution_count": null,
      "outputs": []
    },
    {
      "cell_type": "code",
      "source": [
        "###"
      ],
      "metadata": {
        "id": "U6hTb1DI8CT4"
      },
      "execution_count": null,
      "outputs": []
    },
    {
      "cell_type": "code",
      "source": [
        "INSERT INTO buy_step (\n",
        "    buy_id, step_id)\n",
        "SELECT\n",
        "    buy.buy_id,\n",
        "    step.step_id\n",
        "FROM buy\n",
        "    CROSS JOIN step\n",
        "WHERE buy.buy_id = 5;"
      ],
      "metadata": {
        "id": "EJEv9fc38CXD"
      },
      "execution_count": null,
      "outputs": []
    },
    {
      "cell_type": "code",
      "source": [
        "###"
      ],
      "metadata": {
        "id": "nhDyW2LE8Cfb"
      },
      "execution_count": null,
      "outputs": []
    },
    {
      "cell_type": "code",
      "source": [
        "UPDATE buy_step\n",
        "    INNER JOIN step USING(step_id)\n",
        "SET buy_step.date_step_beg = '2020-04-12'\n",
        "WHERE\n",
        "    buy_step.buy_id = 5\n",
        "    AND step_id IN (\n",
        "        SELECT step_id\n",
        "        FROM step\n",
        "        WHERE name_step = 'Оплата'\n",
        ");\n",
        "\n",
        "SELECT * FROM buy_step;"
      ],
      "metadata": {
        "id": "9-Hu0RV18Cl6"
      },
      "execution_count": null,
      "outputs": []
    },
    {
      "cell_type": "code",
      "source": [
        "###"
      ],
      "metadata": {
        "id": "eAnETLSbyyLc"
      },
      "execution_count": null,
      "outputs": []
    },
    {
      "cell_type": "code",
      "source": [
        "UPDATE buy_step\n",
        "    INNER JOIN step USING(step_id)\n",
        "SET buy_step.date_step_end = '2020-04-13'\n",
        "WHERE\n",
        "    buy_step.buy_id = 5\n",
        "    AND step_id IN (\n",
        "        SELECT step_id\n",
        "        FROM step\n",
        "        WHERE name_step = 'Оплата'\n",
        ");\n",
        "\n",
        "UPDATE buy_step\n",
        "    INNER JOIN step USING(step_id)\n",
        "SET buy_step.date_step_beg = '2020-04-13'\n",
        "WHERE\n",
        "    buy_step.buy_id = 5\n",
        "    AND step_id IN (\n",
        "        SELECT step_id\n",
        "        FROM step\n",
        "        WHERE name_step = 'Упаковка'\n",
        ");"
      ],
      "metadata": {
        "id": "4Yv9IYQIyyLd"
      },
      "execution_count": null,
      "outputs": []
    },
    {
      "cell_type": "code",
      "source": [
        "###"
      ],
      "metadata": {
        "id": "OscBVWzAyyLd"
      },
      "execution_count": null,
      "outputs": []
    },
    {
      "cell_type": "markdown",
      "source": [
        "It is necessary to find out at what stage all unfinished orders are now.\n",
        "\n",
        "Create a step_now table with the Name of the client, the title of the book, the date of the current stage and the name of the stage. Sort the dates in ascending order."
      ],
      "metadata": {
        "id": "MuYYBhV2Twlb"
      }
    },
    {
      "cell_type": "code",
      "source": [
        "CREATE TABLE step_now AS\n",
        "SELECT\n",
        "    client.name_client,\n",
        "    book.title,\n",
        "    buy_step.date_step_beg AS date,\n",
        "    step.name_step\n",
        "FROM book\n",
        "    INNER JOIN buy_book USING(book_id)\n",
        "    INNER JOIN buy USING(buy_id)\n",
        "    INNER JOIN buy_step USING(buy_id)\n",
        "    INNER JOIN step USING(step_id)\n",
        "    INNER JOIN client USING(client_id)\n",
        "WHERE\n",
        "    date_step_beg IS NOT NULL\n",
        "    AND date_step_end IS NULL\n",
        "ORDER BY date ASC;\n",
        "\n",
        "SELECT * FROM step_now;"
      ],
      "metadata": {
        "id": "dmoYTJaJyyLe"
      },
      "execution_count": null,
      "outputs": []
    },
    {
      "cell_type": "code",
      "source": [],
      "metadata": {
        "id": "y_2Sq05GyyLg"
      },
      "execution_count": null,
      "outputs": []
    }
  ]
}