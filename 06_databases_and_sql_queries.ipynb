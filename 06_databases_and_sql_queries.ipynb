{
  "nbformat": 4,
  "nbformat_minor": 0,
  "metadata": {
    "colab": {
      "provenance": []
    },
    "kernelspec": {
      "name": "python3",
      "display_name": "Python 3"
    },
    "language_info": {
      "name": "python"
    }
  },
  "cells": [
    {
      "cell_type": "markdown",
      "source": [
        "# **<font color='crimson'>Databases and SQL Queries</font>**\n",
        "\n",
        "---"
      ],
      "metadata": {
        "id": "gLLhUWglC0m9"
      }
    },
    {
      "cell_type": "markdown",
      "source": [
        "# **3.1 Database 'Testing', Selection Requests**\n",
        "\n",
        "---"
      ],
      "metadata": {
        "id": "GCrpZ2PI-l3S"
      }
    },
    {
      "cell_type": "code",
      "execution_count": null,
      "metadata": {
        "id": "AfB3rIonCYWi"
      },
      "outputs": [],
      "source": [
        "###"
      ]
    },
    {
      "cell_type": "code",
      "source": [
        "SELECT\n",
        "    student.name_student,\n",
        "    attempt.date_attempt,\n",
        "    attempt.result\n",
        "FROM\n",
        "    student\n",
        "    INNER JOIN attempt USING (student_id)\n",
        "    INNER JOIN subject USING (subject_id)\n",
        "WHERE subject.name_subject LIKE 'Основы баз данных'\n",
        "ORDER BY attempt.result DESC;"
      ],
      "metadata": {
        "id": "fUqzzBEJ-x94"
      },
      "execution_count": null,
      "outputs": []
    },
    {
      "cell_type": "code",
      "source": [
        "###"
      ],
      "metadata": {
        "id": "ybs3aV0K-yBU"
      },
      "execution_count": null,
      "outputs": []
    },
    {
      "cell_type": "code",
      "source": [
        "SELECT\n",
        "    subject.name_subject,\n",
        "    COUNT(attempt.attempt_id) AS Количество,\n",
        "    ROUND(AVG(attempt.result), 2) AS Среднее\n",
        "FROM subject\n",
        "    LEFT JOIN attempt USING (subject_id)\n",
        "GROUP BY subject.name_subject\n",
        "ORDER BY Среднее DESC;"
      ],
      "metadata": {
        "id": "yBki0Iid-yFE"
      },
      "execution_count": null,
      "outputs": []
    },
    {
      "cell_type": "code",
      "source": [
        "###"
      ],
      "metadata": {
        "id": "8Tggty3i-yIF"
      },
      "execution_count": null,
      "outputs": []
    },
    {
      "cell_type": "code",
      "source": [
        "SELECT\n",
        "    student.name_student,\n",
        "    attempt.result\n",
        "FROM student\n",
        "    INNER JOIN attempt USING (student_id)\n",
        "WHERE result IN (\n",
        "    SELECT MAX(attempt.result)\n",
        "    FROM attempt)\n",
        "ORDER BY student.name_student;"
      ],
      "metadata": {
        "id": "n6L6ez5v-yLL"
      },
      "execution_count": null,
      "outputs": []
    },
    {
      "cell_type": "code",
      "source": [
        "###"
      ],
      "metadata": {
        "id": "FLR6cJrQDRkm"
      },
      "execution_count": null,
      "outputs": []
    },
    {
      "cell_type": "code",
      "source": [
        "SELECT\n",
        "    student.name_student,\n",
        "    subject.name_subject,\n",
        "    DATEDIFF(\n",
        "        MAX(attempt.date_attempt),\n",
        "        MIN(attempt.date_attempt)) AS Интервал\n",
        "FROM subject\n",
        "    INNER JOIN attempt USING (subject_id)\n",
        "    INNER JOIN student USING (student_id)\n",
        "GROUP BY\n",
        "    student.name_student,\n",
        "    subject.name_subject\n",
        "HAVING\n",
        "    Интервал <> 0\n",
        "ORDER BY Интервал;"
      ],
      "metadata": {
        "id": "AxNpk9IXDRn0"
      },
      "execution_count": null,
      "outputs": []
    },
    {
      "cell_type": "code",
      "source": [
        "SELECT\n",
        "    student.name_student,\n",
        "    subject.name_subject,\n",
        "    DATEDIFF(\n",
        "        MAX(attempt.date_attempt),\n",
        "        MIN(attempt.date_attempt)) AS Интервал\n",
        "FROM subject\n",
        "    INNER JOIN attempt USING (subject_id)\n",
        "    INNER JOIN student USING (student_id)\n",
        "GROUP BY\n",
        "    student.name_student,\n",
        "    subject.name_subject\n",
        "HAVING\n",
        "    COUNT(date_attempt) > 1\n",
        "ORDER BY Интервал;"
      ],
      "metadata": {
        "id": "igsJizUSDRrG"
      },
      "execution_count": null,
      "outputs": []
    },
    {
      "cell_type": "code",
      "source": [
        "###"
      ],
      "metadata": {
        "id": "WzoWBhb_DRux"
      },
      "execution_count": null,
      "outputs": []
    },
    {
      "cell_type": "code",
      "source": [
        "SELECT\n",
        "    subject.name_subject,\n",
        "    COUNT(DISTINCT attempt.student_id) AS Количество\n",
        "FROM subject\n",
        "    LEFT JOIN attempt USING (subject_id)\n",
        "GROUP BY subject.name_subject\n",
        "ORDER BY\n",
        "    Количество DESC,\n",
        "    subject.name_subject ASC;"
      ],
      "metadata": {
        "id": "7sh1g0Wk-yOZ"
      },
      "execution_count": null,
      "outputs": []
    },
    {
      "cell_type": "code",
      "source": [
        "###"
      ],
      "metadata": {
        "id": "1ErJ1XoVOaF4"
      },
      "execution_count": null,
      "outputs": []
    },
    {
      "cell_type": "code",
      "source": [
        "SELECT\n",
        "    question.question_id,\n",
        "    question.name_question\n",
        "FROM question\n",
        "    INNER JOIN subject USING (subject_id)\n",
        "WHERE subject.name_subject LIKE 'Основы баз данных'\n",
        "ORDER BY RAND()\n",
        "LIMIT 3;"
      ],
      "metadata": {
        "id": "455rxiDWOaI7"
      },
      "execution_count": null,
      "outputs": []
    },
    {
      "cell_type": "code",
      "source": [
        "###"
      ],
      "metadata": {
        "id": "A9ajXhv0OaMR"
      },
      "execution_count": null,
      "outputs": []
    },
    {
      "cell_type": "code",
      "source": [
        "SELECT\n",
        "    question.name_question,\n",
        "    answer.name_answer,\n",
        "    IF(answer.is_correct = 1, 'Верно', 'Неверно') AS Результат\n",
        "FROM question\n",
        "    INNER JOIN answer USING (question_id)\n",
        "    INNER JOIN testing USING (answer_id, question_id)\n",
        "    INNER JOIN attempt USING (attempt_id)\n",
        "    INNER JOIN student USING (student_id)\n",
        "    INNER JOIN subject\n",
        "        ON attempt.subject_id = subject.subject_id\n",
        "WHERE\n",
        "    -- testing.attempt_id = 7\n",
        "    student.name_student = 'Семенов Иван'\n",
        "    AND subject.name_subject = 'Основы SQL'\n",
        "    AND attempt.date_attempt = '2020-05-17';"
      ],
      "metadata": {
        "id": "HEhhQV37OaO7"
      },
      "execution_count": null,
      "outputs": []
    },
    {
      "cell_type": "code",
      "source": [
        "###"
      ],
      "metadata": {
        "id": "OfqXi8noOaST"
      },
      "execution_count": null,
      "outputs": []
    },
    {
      "cell_type": "code",
      "source": [
        "SELECT\n",
        "    student.name_student,\n",
        "    subject.name_subject,\n",
        "    attempt.date_attempt,\n",
        "    ROUND((SUM(answer.is_correct) / 3) * 100, 2) AS Результат\n",
        "FROM subject\n",
        "    INNER JOIN attempt\n",
        "        ON subject.subject_id = attempt.subject_id\n",
        "    INNER JOIN student\n",
        "        ON student.student_id = attempt.student_id\n",
        "    INNER JOIN testing\n",
        "        ON attempt.attempt_id = testing.attempt_id\n",
        "    INNER JOIN answer\n",
        "        ON testing.answer_id = answer.answer_id\n",
        "        AND testing.question_id = answer.question_id\n",
        "GROUP BY\n",
        "    student.name_student,\n",
        "    subject.name_subject,\n",
        "    attempt.date_attempt\n",
        "ORDER BY\n",
        "    student.name_student ASC,\n",
        "    attempt.date_attempt DESC;"
      ],
      "metadata": {
        "id": "jS9PupQUOaVp"
      },
      "execution_count": null,
      "outputs": []
    },
    {
      "cell_type": "code",
      "source": [
        "SELECT\n",
        "    student.name_student,\n",
        "    subject.name_subject,\n",
        "    attempt.date_attempt,\n",
        "    ROUND((SUM(answer.is_correct) / 3) * 100, 2) AS Результат\n",
        "FROM subject\n",
        "    INNER JOIN attempt\n",
        "        ON subject.subject_id = attempt.subject_id\n",
        "    INNER JOIN student\n",
        "        ON student.student_id = attempt.student_id\n",
        "    INNER JOIN testing\n",
        "        ON attempt.attempt_id = testing.attempt_id\n",
        "    INNER JOIN answer\n",
        "        ON testing.answer_id = answer.answer_id\n",
        "        AND testing.question_id = answer.question_id\n",
        "GROUP BY\n",
        "    testing.attempt_id\n",
        "ORDER BY\n",
        "    student.name_student ASC,\n",
        "    attempt.date_attempt DESC;"
      ],
      "metadata": {
        "id": "Cux7BlJ9g-Qc"
      },
      "execution_count": null,
      "outputs": []
    },
    {
      "cell_type": "code",
      "source": [
        "###"
      ],
      "metadata": {
        "id": "vygrJOyI-yR9"
      },
      "execution_count": null,
      "outputs": []
    },
    {
      "cell_type": "code",
      "source": [
        "SELECT\n",
        "    subject.name_subject,\n",
        "    CONCAT(LEFT(question.name_question, 30), '...') AS Вопрос,\n",
        "    COUNT(testing.testing_id) AS Всего_ответов,\n",
        "    ROUND(AVG(is_correct) * 100, 2) AS Успешность\n",
        "FROM subject\n",
        "    INNER JOIN question\n",
        "        ON subject.subject_id = question.subject_id\n",
        "    INNER JOIN answer\n",
        "        ON question.question_id = answer.question_id\n",
        "    INNER JOIN testing\n",
        "        ON answer.answer_id = testing.answer_id\n",
        "GROUP BY\n",
        "    subject.name_subject,\n",
        "    question.name_question\n",
        "ORDER BY\n",
        "    subject.name_subject ASC,\n",
        "    Успешность DESC,\n",
        "    Вопрос ASC;"
      ],
      "metadata": {
        "id": "wWLPElJqA-IP"
      },
      "execution_count": null,
      "outputs": []
    },
    {
      "cell_type": "code",
      "source": [
        "SELECT\n",
        "    subject.name_subject,\n",
        "    CONCAT(LEFT(question.name_question, 30), '...') AS Вопрос,\n",
        "    COUNT(testing.testing_id) AS Всего_ответов,\n",
        "    ROUND((SUM(answer.is_correct) / COUNT(is_correct)) * 100, 2) AS Успешность\n",
        "FROM subject\n",
        "    INNER JOIN question\n",
        "        ON subject.subject_id = question.subject_id\n",
        "    INNER JOIN answer\n",
        "        ON question.question_id = answer.question_id\n",
        "    INNER JOIN testing\n",
        "        ON answer.answer_id = testing.answer_id\n",
        "    INNER JOIN attempt\n",
        "        ON testing.attempt_id = attempt.attempt_id\n",
        "GROUP BY\n",
        "    subject.name_subject,\n",
        "    question.name_question\n",
        "ORDER BY\n",
        "    subject.name_subject ASC,\n",
        "    Успешность DESC,\n",
        "    Вопрос ASC;"
      ],
      "metadata": {
        "id": "TgmAq2UTg4p0"
      },
      "execution_count": null,
      "outputs": []
    },
    {
      "cell_type": "code",
      "source": [
        "###"
      ],
      "metadata": {
        "id": "0TJ4EcxSCuOT"
      },
      "execution_count": null,
      "outputs": []
    },
    {
      "cell_type": "markdown",
      "source": [
        "Score the students on the best test scores:\n",
        "\n",
        "* 100 - 86 - отлично\n",
        "* 85 - 70  -  хорошо\n",
        "* 69 - 51  -  удовлетв.\n",
        "* 0 - 50   -   неудовлетв."
      ],
      "metadata": {
        "id": "PyLL35rUDYIc"
      }
    },
    {
      "cell_type": "code",
      "source": [
        "SELECT\n",
        "    student.name_student,\n",
        "    subject.name_subject,\n",
        "    MAX(attempt.result) AS Результат,\n",
        "    IF(MAX(attempt.result) BETWEEN 86 AND 100, 'отлично', IF(MAX(attempt.result) BETWEEN 70 AND 85, 'хорошо', IF(MAX(attempt.result) BETWEEN 51 AND 69, 'удовлетв.', 'неудовлетв'))) AS Оценка\n",
        "FROM subject\n",
        "    INNER JOIN attempt\n",
        "        ON subject.subject_id = attempt.subject_id\n",
        "    INNER JOIN student\n",
        "        ON attempt.student_id = student.student_id\n",
        "GROUP BY\n",
        "    student.name_student,\n",
        "    subject.name_subject\n",
        "ORDER BY\n",
        "    subject.name_subject ASC,\n",
        "    Результат DESC;"
      ],
      "metadata": {
        "id": "xksPBWYL_dK5"
      },
      "execution_count": null,
      "outputs": []
    },
    {
      "cell_type": "markdown",
      "source": [
        "# **3.2 Database 'Testing', Adjustment Requests**\n",
        "\n",
        "---"
      ],
      "metadata": {
        "id": "1iolFKSzMHfA"
      }
    },
    {
      "cell_type": "code",
      "source": [
        "###"
      ],
      "metadata": {
        "id": "Tnqa_lxY9y9w"
      },
      "execution_count": null,
      "outputs": []
    },
    {
      "cell_type": "code",
      "source": [
        "INSERT INTO attempt\n",
        "    (student_id, subject_id, date_attempt, result)\n",
        "SELECT\n",
        "    attempt.student_id,\n",
        "    attempt.subject_id,\n",
        "    NOW(),\n",
        "    NULL\n",
        "FROM subject\n",
        "    INNER JOIN attempt\n",
        "        ON subject.subject_id = attempt.subject_id\n",
        "    INNER JOIN student\n",
        "        ON attempt.student_id = student.student_id\n",
        "WHERE\n",
        "    student.name_student LIKE 'Баранов Павел'\n",
        "    AND subject.name_subject LIKE 'Основы баз данных';\n",
        "\n",
        "SELECT * FROM attempt;"
      ],
      "metadata": {
        "id": "hWVGYSG-9zBH"
      },
      "execution_count": null,
      "outputs": []
    },
    {
      "cell_type": "code",
      "source": [
        "###"
      ],
      "metadata": {
        "id": "OP9-UPfl9zEG"
      },
      "execution_count": null,
      "outputs": []
    },
    {
      "cell_type": "code",
      "source": [
        "UPDATE attempt\n",
        "SET\n",
        "    attempt.result = (\n",
        "    SELECT ROUND(SUM(is_correct) / 3 * 100)\n",
        "    FROM answer\n",
        "        INNER JOIN testing\n",
        "            ON answer.answer_id = testing.answer_id\n",
        "    WHERE attempt_id IN (\n",
        "        SELECT *\n",
        "        FROM (SELECT MAX(attempt.attempt_id) FROM attempt) AS query_1)\n",
        "    GROUP BY attempt_id)\n",
        "WHERE attempt_id IN (\n",
        "        SELECT *\n",
        "        FROM (SELECT MAX(attempt.attempt_id) FROM attempt) AS query_2);\n",
        "SELECT * FROM attempt;"
      ],
      "metadata": {
        "id": "ud3exhnymdkx"
      },
      "execution_count": null,
      "outputs": []
    },
    {
      "cell_type": "code",
      "source": [
        "UPDATE attempt\n",
        "SET\n",
        "    attempt.result = (\n",
        "    SELECT\n",
        "        ROUND((SUM(answer.is_correct) / 3) * 100, 2) AS Результат\n",
        "    FROM subject\n",
        "        INNER JOIN (SELECT * FROM attempt) AS query\n",
        "            ON subject.subject_id = query.subject_id\n",
        "        INNER JOIN student\n",
        "            ON student.student_id = query.student_id\n",
        "        INNER JOIN testing\n",
        "            ON query.attempt_id = testing.attempt_id\n",
        "        INNER JOIN answer\n",
        "            ON testing.answer_id = answer.answer_id\n",
        "            AND testing.question_id = answer.question_id\n",
        "    WHERE testing.attempt_id = 8)\n",
        "WHERE attempt.attempt_id = 8;\n",
        "\n",
        "SELECT * FROM attempt;"
      ],
      "metadata": {
        "id": "UGSDYXGy9zHG"
      },
      "execution_count": null,
      "outputs": []
    },
    {
      "cell_type": "code",
      "source": [
        "###"
      ],
      "metadata": {
        "id": "gg6p8dc-WBwa"
      },
      "execution_count": null,
      "outputs": []
    },
    {
      "cell_type": "code",
      "source": [
        "DELETE FROM attempt\n",
        "WHERE attempt.date_attempt < '2020-05-01';\n",
        "\n",
        "SELECT * FROM attempt;\n",
        "SELECT * FROM testing;"
      ],
      "metadata": {
        "id": "hZpBcft3WBzK"
      },
      "execution_count": null,
      "outputs": []
    },
    {
      "cell_type": "code",
      "source": [
        "###"
      ],
      "metadata": {
        "id": "hHQrcuXOWB2k"
      },
      "execution_count": null,
      "outputs": []
    },
    {
      "cell_type": "markdown",
      "source": [
        "Студента Ивана Семенова не устроил последний результат теста. Пока преподаватель не видит, он просит одногруппника исправить данные в базе, чтобы убрать результаты последней попытки, сделав вид, что он его еще не выполнял.\n",
        "\n",
        "Сначала одногруппник узнает номер попытки, а затем удаляет необходимую информацию."
      ],
      "metadata": {
        "id": "1ZKi-WEpuS7A"
      }
    },
    {
      "cell_type": "code",
      "source": [
        "WITH subquery AS (\n",
        "    SELECT attempt.attempt_id\n",
        "    FROM student\n",
        "        LEFT JOIN attempt\n",
        "            ON student.student_id = attempt.student_id\n",
        "    WHERE student.name_student LIKE 'Семенов Иван'\n",
        "    ORDER BY attempt.attempt_id DESC\n",
        "    LIMIT 1)\n",
        "\n",
        "DELETE FROM attempt\n",
        "WHERE attempt.attempt_id IN (\n",
        "    SELECT * FROM subquery);\n",
        "\n",
        "SELECT * FROM attempt;\n",
        "SELECT * FROM testing;"
      ],
      "metadata": {
        "id": "vUad2nhv9zKL"
      },
      "execution_count": null,
      "outputs": []
    },
    {
      "cell_type": "markdown",
      "source": [
        "# **3.3 Database 'Entrant', selection requests**\n",
        "\n",
        "---"
      ],
      "metadata": {
        "id": "i-LDwHZWDJbN"
      }
    },
    {
      "cell_type": "code",
      "source": [
        "###"
      ],
      "metadata": {
        "id": "64aaZg_2CuYp"
      },
      "execution_count": null,
      "outputs": []
    },
    {
      "cell_type": "code",
      "source": [
        "SELECT\n",
        "    enrollee.name_enrollee\n",
        "FROM enrollee\n",
        "    INNER JOIN program_enrollee USING(enrollee_id)\n",
        "    INNER JOIN program USING(program_id)\n",
        "WHERE program.name_program LIKE 'Мехатроника и робототехника'\n",
        "ORDER BY enrollee.name_enrollee ASC;"
      ],
      "metadata": {
        "id": "EFPNIEqrCubs"
      },
      "execution_count": null,
      "outputs": []
    },
    {
      "cell_type": "code",
      "source": [
        "###"
      ],
      "metadata": {
        "id": "XSYzE_gsCuev"
      },
      "execution_count": null,
      "outputs": []
    },
    {
      "cell_type": "code",
      "source": [
        "SELECT\n",
        "    program.name_program\n",
        "FROM program\n",
        "    INNER JOIN program_subject USING(program_id)\n",
        "    INNER JOIN subject USING(subject_id)\n",
        "WHERE subject.name_subject = 'Информатика'\n",
        "ORDER BY program.name_program DESC;"
      ],
      "metadata": {
        "id": "hdy9idxoCuiN"
      },
      "execution_count": null,
      "outputs": []
    },
    {
      "cell_type": "code",
      "execution_count": null,
      "metadata": {
        "id": "ov7_9ckvCwWt"
      },
      "outputs": [],
      "source": [
        "###"
      ]
    },
    {
      "cell_type": "code",
      "source": [
        "SELECT\n",
        "    subject.name_subject,\n",
        "    COUNT(enrollee_subject.enrollee_id) AS Количество,\n",
        "    MAX(enrollee_subject.result) AS Максимум,\n",
        "    MIN(enrollee_subject.result) AS Минимум,\n",
        "    ROUND(AVG(enrollee_subject.result), 1) AS Среднее\n",
        "FROM subject\n",
        "    INNER JOIN enrollee_subject USING(subject_id)\n",
        "GROUP BY subject.name_subject\n",
        "ORDER BY subject.name_subject ASC;"
      ],
      "metadata": {
        "id": "e_287Z62CwWu"
      },
      "execution_count": null,
      "outputs": []
    },
    {
      "cell_type": "code",
      "source": [
        "###"
      ],
      "metadata": {
        "id": "uP4cY8wCCwWu"
      },
      "execution_count": null,
      "outputs": []
    },
    {
      "cell_type": "code",
      "source": [
        "SELECT\n",
        "    program.name_program\n",
        "FROM program\n",
        "    INNER JOIN program_subject USING(program_id)\n",
        "GROUP BY program.name_program\n",
        "HAVING MIN(program_subject.min_result) >= 40\n",
        "ORDER BY program.name_program;"
      ],
      "metadata": {
        "id": "sKdrnPb1CwWu"
      },
      "execution_count": null,
      "outputs": []
    },
    {
      "cell_type": "code",
      "source": [
        "###"
      ],
      "metadata": {
        "id": "8mGCUHSeCwWv"
      },
      "execution_count": null,
      "outputs": []
    },
    {
      "cell_type": "code",
      "source": [
        "SELECT\n",
        "    program.name_program,\n",
        "    program.plan\n",
        "FROM program\n",
        "WHERE program.plan = (\n",
        "    SELECT MAX(plan)\n",
        "    FROM program);"
      ],
      "metadata": {
        "id": "yKCB6WkeCwWv"
      },
      "execution_count": null,
      "outputs": []
    },
    {
      "cell_type": "code",
      "source": [
        "###"
      ],
      "metadata": {
        "id": "WIMdrmkTCwWv"
      },
      "execution_count": null,
      "outputs": []
    },
    {
      "cell_type": "code",
      "source": [
        "SELECT\n",
        "    enrollee.name_enrollee,\n",
        "    IF(SUM(bonus) IS NULL,\n",
        "       0,\n",
        "       SUM(bonus)) AS Бонус\n",
        "FROM enrollee\n",
        "    LEFT JOIN enrollee_achievement USING (enrollee_id)\n",
        "    LEFT JOIN achievement USING (achievement_id)\n",
        "GROUP BY enrollee.name_enrollee\n",
        "ORDER BY enrollee.name_enrollee;"
      ],
      "metadata": {
        "id": "AITq48JJCwWv"
      },
      "execution_count": null,
      "outputs": []
    },
    {
      "cell_type": "code",
      "execution_count": null,
      "metadata": {
        "id": "JvjozZkrCwsA"
      },
      "outputs": [],
      "source": [
        "###"
      ]
    },
    {
      "cell_type": "code",
      "source": [
        "SELECT\n",
        "    department.name_department,\n",
        "    program.name_program,\n",
        "    program.plan AS plan,\n",
        "    COUNT(enrollee_id) AS Количество,\n",
        "    ROUND(COUNT(enrollee_id) / plan, 2) AS Конкурс\n",
        "FROM department\n",
        "    INNER JOIN program USING (department_id)\n",
        "    INNER JOIN program_enrollee USING (program_id)\n",
        "GROUP BY\n",
        "    department.name_department,\n",
        "    program.name_program,\n",
        "    program.plan\n",
        "ORDER BY Конкурс DESC;"
      ],
      "metadata": {
        "id": "8NwJMa6HCwsB"
      },
      "execution_count": null,
      "outputs": []
    },
    {
      "cell_type": "code",
      "source": [
        "###"
      ],
      "metadata": {
        "id": "Xcg3NZcLCwsC"
      },
      "execution_count": null,
      "outputs": []
    },
    {
      "cell_type": "code",
      "source": [
        "SELECT\n",
        "    program.name_program\n",
        "FROM program\n",
        "    INNER JOIN program_subject USING (program_id)\n",
        "    INNER JOIN subject USING (subject_id)\n",
        "WHERE\n",
        "    subject.name_subject LIKE 'Информатика'\n",
        "    OR subject.name_subject LIKE 'Математика'\n",
        "GROUP BY program.name_program\n",
        "HAVING COUNT(program_subject.subject_id) = 2\n",
        "ORDER BY program.name_program;"
      ],
      "metadata": {
        "id": "o98l1fLmCwsC"
      },
      "execution_count": null,
      "outputs": []
    },
    {
      "cell_type": "code",
      "source": [
        "###"
      ],
      "metadata": {
        "id": "WZEcuKvaCwsD"
      },
      "execution_count": null,
      "outputs": []
    },
    {
      "cell_type": "code",
      "source": [
        "SELECT\n",
        "    program.name_program,\n",
        "    enrollee.name_enrollee,\n",
        "    SUM(result) AS itog\n",
        "FROM enrollee\n",
        "    INNER JOIN program_enrollee USING (enrollee_id)\n",
        "    INNER JOIN program USING (program_id)\n",
        "    INNER JOIN program_subject USING (program_id)\n",
        "    INNER JOIN subject USING (subject_id)\n",
        "    INNER JOIN enrollee_subject\n",
        "        ON subject.subject_id = enrollee_subject.subject_id\n",
        "        AND enrollee_subject.enrollee_id = enrollee.enrollee_id\n",
        "GROUP BY\n",
        "    program.name_program,\n",
        "    enrollee.name_enrollee\n",
        "ORDER BY\n",
        "    program.name_program ASC,\n",
        "    SUM(result) DESC;"
      ],
      "metadata": {
        "id": "0EA38AIDCwsD"
      },
      "execution_count": null,
      "outputs": []
    },
    {
      "cell_type": "code",
      "source": [
        "###"
      ],
      "metadata": {
        "id": "Sl7SP6mICwsE"
      },
      "execution_count": null,
      "outputs": []
    },
    {
      "cell_type": "code",
      "source": [
        "SELECT\n",
        "    program.name_program,\n",
        "    enrollee.name_enrollee\n",
        "FROM enrollee\n",
        "    INNER JOIN program_enrollee USING (enrollee_id)\n",
        "    INNER JOIN program USING (program_id)\n",
        "    INNER JOIN program_subject USING (program_id)\n",
        "    INNER JOIN enrollee_subject\n",
        "        ON program_subject.subject_id = enrollee_subject.subject_id\n",
        "        AND enrollee_subject.enrollee_id = enrollee.enrollee_id\n",
        "WHERE result < min_result\n",
        "ORDER BY\n",
        "    program.name_program,\n",
        "    enrollee.name_enrollee;"
      ],
      "metadata": {
        "id": "k6leQmeRCwsE"
      },
      "execution_count": null,
      "outputs": []
    },
    {
      "cell_type": "code",
      "execution_count": null,
      "metadata": {
        "id": "C8td_sHZCxAZ"
      },
      "outputs": [],
      "source": [
        "###"
      ]
    },
    {
      "cell_type": "markdown",
      "source": [
        "Определить на какие образовательные программы подала заявление абитуриентка Степанова Дарья, минимально необходимую сумму баллов по предметам ЕГЭ для этих программ, а также сумму баллов по предметам ЕГЭ для этих программ, которые она набрала."
      ],
      "metadata": {
        "id": "LtySwv1zcJiK"
      }
    },
    {
      "cell_type": "code",
      "source": [
        "SELECT\n",
        "    program.name_program AS program,\n",
        "    enrollee.name_enrollee AS name,\n",
        "    SUM(program_subject.min_result) AS 'Проходный балл',\n",
        "    SUM(enrollee_subject.result) AS 'Сумма баллов'\n",
        "FROM program\n",
        "    INNER JOIN program_subject USING (program_id)\n",
        "    INNER JOIN subject USING (subject_id)\n",
        "    INNER JOIN enrollee_subject USING (subject_id)\n",
        "    INNER JOIN enrollee\n",
        "        ON enrollee_subject.enrollee_id = enrollee.enrollee_id\n",
        "WHERE\n",
        "    enrollee.name_enrollee LIKE 'Степанова Дарья'\n",
        "    AND program.program_id IN (\n",
        "        SELECT DISTINCT program_enrollee.program_id\n",
        "        FROM enrollee\n",
        "            INNER JOIN program_enrollee USING (enrollee_id)\n",
        "        WHERE enrollee.name_enrollee LIKE 'Степанова Дарья'\n",
        "    )\n",
        "GROUP BY\n",
        "    program.name_program,\n",
        "    enrollee.name_enrollee;"
      ],
      "metadata": {
        "id": "c_yr9E4ZCxAa"
      },
      "execution_count": null,
      "outputs": []
    },
    {
      "cell_type": "markdown",
      "source": [
        "# **3.4 Database 'Entrant', Adjustment Requests**\n",
        "\n",
        "---"
      ],
      "metadata": {
        "id": "NJ3DaidBH1y2"
      }
    },
    {
      "cell_type": "code",
      "source": [
        "###"
      ],
      "metadata": {
        "id": "uSVgtwTsCxAa"
      },
      "execution_count": null,
      "outputs": []
    },
    {
      "cell_type": "code",
      "source": [
        "/*объединение трех таблиц*/\n",
        "CREATE TABLE applicant AS\n",
        "SELECT\n",
        "    program_enrollee.program_id,\n",
        "    program_enrollee.enrollee_id,\n",
        "    SUM(enrollee_subject.result) AS itog\n",
        "FROM program_subject\n",
        "    INNER JOIN enrollee_subject\n",
        "        ON program_subject.subject_id = enrollee_subject.subject_id\n",
        "    INNER JOIN program_enrollee\n",
        "        ON program_enrollee.program_id = program_subject.program_id\n",
        "        AND program_enrollee.enrollee_id = enrollee_subject.enrollee_id\n",
        "GROUP BY\n",
        "    program_enrollee.program_id,\n",
        "    program_enrollee.enrollee_id\n",
        "ORDER BY\n",
        "    program_enrollee.program_id ASC,\n",
        "    SUM(enrollee_subject.result) DESC;\n",
        "SELECT * FROM applicant;"
      ],
      "metadata": {
        "id": "otZ6bmx3RvW9"
      },
      "execution_count": null,
      "outputs": []
    },
    {
      "cell_type": "code",
      "source": [
        "/*объединение шести таблиц 'по кольцу'*/\n",
        "CREATE TABLE applicant AS\n",
        "SELECT\n",
        "    program.program_id,\n",
        "    enrollee.enrollee_id,\n",
        "    SUM(result) AS itog\n",
        "FROM enrollee\n",
        "    INNER JOIN enrollee_subject\n",
        "        ON enrollee.enrollee_id = enrollee_subject.enrollee_id\n",
        "    INNER JOIN subject\n",
        "        ON enrollee_subject.subject_id = subject.subject_id\n",
        "    INNER JOIN program_subject\n",
        "        ON subject.subject_id = program_subject.subject_id\n",
        "    INNER JOIN program\n",
        "        ON program_subject.program_id = program.program_id\n",
        "    INNER JOIN program_enrollee\n",
        "        ON enrollee.enrollee_id = program_enrollee.enrollee_id\n",
        "        AND program.program_id = program_enrollee.program_id\n",
        "GROUP BY\n",
        "    program.program_id,\n",
        "    enrollee.enrollee_id\n",
        "ORDER BY\n",
        "    program.program_id ASC,\n",
        "    SUM(result) DESC;\n",
        "SELECT * FROM applicant;"
      ],
      "metadata": {
        "id": "V6-TBcWeCxAa"
      },
      "execution_count": null,
      "outputs": []
    },
    {
      "cell_type": "code",
      "source": [
        "###"
      ],
      "metadata": {
        "id": "q7wlQEn3CxAb"
      },
      "execution_count": null,
      "outputs": []
    },
    {
      "cell_type": "code",
      "source": [
        "/*с помощью USING*/\n",
        "DELETE FROM applicant\n",
        "USING\n",
        "    applicant\n",
        "    INNER JOIN program_subject\n",
        "        ON applicant.program_id = program_subject.program_id\n",
        "    INNER JOIN enrollee_subject\n",
        "        ON applicant.enrollee_id = enrollee_subject.enrollee_id\n",
        "        AND program_subject.subject_id = enrollee_subject.subject_id\n",
        "WHERE enrollee_subject.result < program_subject.min_result;\n",
        "\n",
        "SELECT * FROM applicant;"
      ],
      "metadata": {
        "id": "eh9BRiJolm4X"
      },
      "execution_count": null,
      "outputs": []
    },
    {
      "cell_type": "code",
      "source": [
        "/*с помощью подзапроса*/\n",
        "WITH subquery AS (\n",
        "    SELECT\n",
        "        program_subject.program_id,\n",
        "        enrollee_subject.enrollee_id\n",
        "    FROM enrollee_subject\n",
        "        INNER JOIN program_subject\n",
        "            ON enrollee_subject.subject_id = program_subject.subject_id\n",
        "        INNER JOIN program_enrollee\n",
        "            ON program_subject.subject_id = program_enrollee.program_id\n",
        "            AND enrollee_subject.enrollee_id = program_enrollee.enrollee_id\n",
        "    WHERE enrollee_subject.result < program_subject.min_result)\n",
        "\n",
        "DELETE FROM applicant\n",
        "WHERE applicant.program_id IN (\n",
        "        SELECT subquery.program_id FROM subquery)\n",
        "    AND applicant.enrollee_id IN (\n",
        "        SELECT subquery.enrollee_id FROM subquery);\n",
        "\n",
        "SELECT * FROM applicant;"
      ],
      "metadata": {
        "id": "CtHS7Xf9CxAb"
      },
      "execution_count": null,
      "outputs": []
    },
    {
      "cell_type": "code",
      "source": [
        "###"
      ],
      "metadata": {
        "id": "FyqX9nmNCxAb"
      },
      "execution_count": null,
      "outputs": []
    },
    {
      "cell_type": "code",
      "source": [
        "UPDATE\n",
        "    applicant\n",
        "    INNER JOIN (\n",
        "    SELECT\n",
        "        enrollee_achievement.enrollee_id,\n",
        "        IF(SUM(bonus) IS NULL, 0, SUM(bonus)) AS Бонус\n",
        "    FROM enrollee_achievement\n",
        "        LEFT JOIN achievement USING (achievement_id)\n",
        "    GROUP BY enrollee_achievement.enrollee_id\n",
        "    ORDER BY enrollee_achievement.enrollee_id) AS subquery\n",
        "    USING(enrollee_id)\n",
        "SET\n",
        "    applicant.itog = applicant.itog + Бонус;\n",
        "\n",
        "SELECT * FROM applicant;"
      ],
      "metadata": {
        "id": "Vq9K1o5tCxAc"
      },
      "execution_count": null,
      "outputs": []
    },
    {
      "cell_type": "code",
      "execution_count": null,
      "metadata": {
        "id": "1cjxg4fQCxOt"
      },
      "outputs": [],
      "source": [
        "###"
      ]
    },
    {
      "cell_type": "code",
      "source": [
        "CREATE TABLE applicant_order AS\n",
        "SELECT\n",
        "    applicant.program_id,\n",
        "    applicant.enrollee_id,\n",
        "    applicant.itog\n",
        "FROM applicant\n",
        "ORDER BY\n",
        "    applicant.program_id ASC,\n",
        "    applicant.itog DESC;\n",
        "\n",
        "SELECT * FROM applicant_order;\n",
        "\n",
        "DROP TABLE applicant;"
      ],
      "metadata": {
        "id": "EPiNJCuqCxOt"
      },
      "execution_count": null,
      "outputs": []
    },
    {
      "cell_type": "code",
      "source": [
        "###"
      ],
      "metadata": {
        "id": "b1h-iE2iCxOt"
      },
      "execution_count": null,
      "outputs": []
    },
    {
      "cell_type": "code",
      "source": [
        "ALTER TABLE applicant_order ADD str_id INT FIRST;\n",
        "\n",
        "SELECT * FROM applicant_order;"
      ],
      "metadata": {
        "id": "TpWNd_7YCxOt"
      },
      "execution_count": null,
      "outputs": []
    },
    {
      "cell_type": "code",
      "source": [
        "###"
      ],
      "metadata": {
        "id": "r0eORv2dCxOt"
      },
      "execution_count": null,
      "outputs": []
    },
    {
      "cell_type": "code",
      "source": [
        "SET @num_pr := 0;\n",
        "SET @row_num := 1;\n",
        "\n",
        "UPDATE applicant_order\n",
        "SET str_id = IF(\n",
        "    program_id = @num_pr,\n",
        "    @row_num := @row_num + 1,\n",
        "    @row_num := 1 AND @num_pr := program_id);\n",
        "\n",
        "SELECT * FROM applicant_order;"
      ],
      "metadata": {
        "id": "8HAgDU4tCxOt"
      },
      "execution_count": null,
      "outputs": []
    },
    {
      "cell_type": "code",
      "source": [
        "###"
      ],
      "metadata": {
        "id": "4KE6dcqXCxOu"
      },
      "execution_count": null,
      "outputs": []
    },
    {
      "cell_type": "code",
      "source": [
        "CREATE TABLE student AS\n",
        "SELECT\n",
        "    program.name_program,\n",
        "    enrollee.name_enrollee,\n",
        "    applicant_order.itog\n",
        "FROM program\n",
        "    LEFT JOIN applicant_order\n",
        "        ON program.program_id = applicant_order.program_id\n",
        "    INNER JOIN enrollee\n",
        "        ON applicant_order.enrollee_id = enrollee.enrollee_id\n",
        "WHERE applicant_order.str_id <= program.plan\n",
        "ORDER BY\n",
        "    program.name_program ASC,\n",
        "    itog DESC;\n",
        "\n",
        "SELECT * FROM student;"
      ],
      "metadata": {
        "id": "7jNCt0lpCxOu"
      },
      "execution_count": null,
      "outputs": []
    },
    {
      "cell_type": "code",
      "execution_count": null,
      "metadata": {
        "id": "0nfM2x8fCxcI"
      },
      "outputs": [],
      "source": [
        "###"
      ]
    },
    {
      "cell_type": "markdown",
      "source": [
        "В таблицу applicant_order внести дополнительный столбец achievement, туда занести название ачивки,  которую имеет студент. Если ачивки у студента нет, то вывести - 'Достижений нет'."
      ],
      "metadata": {
        "id": "ZSoN6Iy-fNrJ"
      }
    },
    {
      "cell_type": "code",
      "source": [
        "ALTER TABLE applicant_order ADD Достижения VARCHAR(25) AFTER itog;\n",
        "\n",
        "UPDATE applicant_order\n",
        "LEFT JOIN enrollee_achievement\n",
        "    ON applicant_order.enrollee_id = enrollee_achievement.enrollee_id\n",
        "LEFT JOIN achievement\n",
        "    ON enrollee_achievement.achievement_id = achievement.achievement_id\n",
        "SET applicant_order.Достижения = IF(\n",
        "    achievement.name_achievement IS NULL,\n",
        "    'Достижений нет',\n",
        "    achievement.name_achievement);\n",
        "\n",
        "SELECT * FROM applicant_order;"
      ],
      "metadata": {
        "id": "eYPQc8C5CxcK"
      },
      "execution_count": null,
      "outputs": []
    },
    {
      "cell_type": "markdown",
      "source": [
        "# **3.5 Database 'Educational Analytics for the Course'**\n",
        "\n",
        "---"
      ],
      "metadata": {
        "id": "DmbKdqmZsaMq"
      }
    },
    {
      "cell_type": "code",
      "source": [
        "###"
      ],
      "metadata": {
        "id": "KQq127I_CxcK"
      },
      "execution_count": null,
      "outputs": []
    },
    {
      "cell_type": "code",
      "source": [
        "SELECT\n",
        "    CONCAT(LEFT(CONCAT(module.module_id, ' ', module_name), 16), '...') AS Модуль,\n",
        "    CONCAT(LEFT(CONCAT(module.module_id, '.', lesson.lesson_position, ' ', lesson.lesson_name), 16), '...') AS Урок,\n",
        "    CONCAT(module.module_id, '.', lesson.lesson_position, '.', step.step_position, ' ', step.step_name) AS Шаг\n",
        "FROM module\n",
        "    INNER JOIN lesson\n",
        "        ON module.module_id = lesson.module_id\n",
        "    INNER JOIN step\n",
        "        ON lesson.lesson_id = step.lesson_id\n",
        "WHERE step.step_name LIKE '%вложенн% %запрос%'\n",
        "ORDER BY\n",
        "    Модуль ASC,\n",
        "    Урок  ASC,\n",
        "    Шаг ASC;"
      ],
      "metadata": {
        "id": "qljz9HoOCxcL"
      },
      "execution_count": null,
      "outputs": []
    },
    {
      "cell_type": "code",
      "source": [
        "###"
      ],
      "metadata": {
        "id": "-2SlMb3ECxcL"
      },
      "execution_count": null,
      "outputs": []
    },
    {
      "cell_type": "code",
      "source": [],
      "metadata": {
        "id": "W8Wmo_Y7Cyz0"
      },
      "execution_count": null,
      "outputs": []
    }
  ]
}