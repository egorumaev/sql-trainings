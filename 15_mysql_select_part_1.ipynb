{
  "nbformat": 4,
  "nbformat_minor": 0,
  "metadata": {
    "colab": {
      "provenance": []
    },
    "kernelspec": {
      "name": "python3",
      "display_name": "Python 3"
    },
    "language_info": {
      "name": "python"
    }
  },
  "cells": [
    {
      "cell_type": "markdown",
      "source": [
        "# **<font color='crimson'>MySQL. Select queries from A to Z. Part 1</font>**\n",
        "\n",
        "---"
      ],
      "metadata": {
        "id": "CjT5w9s6YcKa"
      }
    },
    {
      "cell_type": "code",
      "execution_count": null,
      "metadata": {
        "id": "CoEAJXqDYV9Z"
      },
      "outputs": [],
      "source": [
        "###"
      ]
    },
    {
      "cell_type": "code",
      "source": [
        "--1\n",
        "select version();"
      ],
      "metadata": {
        "id": "dL7LH9xGYbjq"
      },
      "execution_count": null,
      "outputs": []
    },
    {
      "cell_type": "code",
      "source": [
        "###"
      ],
      "metadata": {
        "id": "QET62ZQZYbwU"
      },
      "execution_count": null,
      "outputs": []
    },
    {
      "cell_type": "code",
      "source": [
        "--2\n",
        "show databases;"
      ],
      "metadata": {
        "id": "HC8BdWVKYbzq"
      },
      "execution_count": null,
      "outputs": []
    },
    {
      "cell_type": "code",
      "source": [
        "###"
      ],
      "metadata": {
        "id": "YeB8zIlhYb2w"
      },
      "execution_count": null,
      "outputs": []
    },
    {
      "cell_type": "code",
      "source": [
        "--3\n",
        "use information_schema;"
      ],
      "metadata": {
        "id": "ymfpqAcTYb58"
      },
      "execution_count": null,
      "outputs": []
    },
    {
      "cell_type": "code",
      "source": [
        "###"
      ],
      "metadata": {
        "id": "WGz6Ob9YYb9H"
      },
      "execution_count": null,
      "outputs": []
    },
    {
      "cell_type": "code",
      "source": [
        "--4\n",
        "show tables;"
      ],
      "metadata": {
        "id": "rGkEmH5mYcAk"
      },
      "execution_count": null,
      "outputs": []
    },
    {
      "cell_type": "code",
      "source": [
        "###"
      ],
      "metadata": {
        "id": "uAScR1WHYcD5"
      },
      "execution_count": null,
      "outputs": []
    },
    {
      "cell_type": "code",
      "source": [
        "--5\n",
        "use information_schema;\n",
        "show tables;"
      ],
      "metadata": {
        "id": "FntudgP5YcHA"
      },
      "execution_count": null,
      "outputs": []
    },
    {
      "cell_type": "code",
      "execution_count": null,
      "metadata": {
        "id": "_rbe8PUdYj33"
      },
      "outputs": [],
      "source": [
        "###"
      ]
    },
    {
      "cell_type": "code",
      "source": [
        "--6\n",
        "use information_schema;\n",
        "select * from keywords;"
      ],
      "metadata": {
        "id": "9GQe84SnYj34"
      },
      "execution_count": null,
      "outputs": []
    },
    {
      "cell_type": "code",
      "source": [
        "###"
      ],
      "metadata": {
        "id": "ITPNY4zBYj35"
      },
      "execution_count": null,
      "outputs": []
    },
    {
      "cell_type": "code",
      "source": [
        "--7\n",
        "use information_schema;\n",
        "desc statistics;"
      ],
      "metadata": {
        "id": "g8BJQ4BtYj35"
      },
      "execution_count": null,
      "outputs": []
    },
    {
      "cell_type": "code",
      "source": [
        "###"
      ],
      "metadata": {
        "id": "mgFG8OxJYj37"
      },
      "execution_count": null,
      "outputs": []
    },
    {
      "cell_type": "code",
      "source": [
        "--8\n",
        "SELECT\n",
        "    count(*)\n",
        "FROM\n",
        "    private_messages as t\n",
        "WHERE\n",
        "    (t.sender_id = 1 AND t.receiver_id = 2)\n",
        "    OR (t.sender_id = 2 AND t.receiver_id = 1);"
      ],
      "metadata": {
        "id": "SHszfeNEYj37"
      },
      "execution_count": null,
      "outputs": []
    },
    {
      "cell_type": "code",
      "source": [
        "###"
      ],
      "metadata": {
        "id": "KvRH-_dCYj38"
      },
      "execution_count": null,
      "outputs": []
    },
    {
      "cell_type": "code",
      "source": [
        "--9\n",
        "SELECT *\n",
        "FROM\n",
        "    channels as t\n",
        "ORDER BY\n",
        "    t.created_at\n",
        "LIMIT 5;"
      ],
      "metadata": {
        "id": "Aj95I3ljAhAh"
      },
      "execution_count": null,
      "outputs": []
    },
    {
      "cell_type": "code",
      "execution_count": null,
      "metadata": {
        "id": "VxwzNTVYYkGF"
      },
      "outputs": [],
      "source": [
        "###"
      ]
    },
    {
      "cell_type": "code",
      "source": [
        "--10\n",
        "SELECT\n",
        "    t.id\n",
        "    ,t.title\n",
        "    ,t.owner_user_id\n",
        "    ,t.created_at\n",
        "FROM\n",
        "    channels as t\n",
        "ORDER BY\n",
        "    t.created_at ASC\n",
        "LIMIT 5;"
      ],
      "metadata": {
        "id": "taCAZApGYkGF"
      },
      "execution_count": null,
      "outputs": []
    },
    {
      "cell_type": "code",
      "source": [
        "###"
      ],
      "metadata": {
        "id": "Mp9AlNSMYkGF"
      },
      "execution_count": null,
      "outputs": []
    },
    {
      "cell_type": "code",
      "source": [
        "--11\n",
        "SELECT *\n",
        "FROM\n",
        "    saved_messages as t\n",
        "WHERE\n",
        "    t.user_id = 5\n",
        "    AND t.body LIKE '%список покупок%';"
      ],
      "metadata": {
        "id": "BzMGd9aEYkGF"
      },
      "execution_count": null,
      "outputs": []
    },
    {
      "cell_type": "code",
      "source": [
        "###"
      ],
      "metadata": {
        "id": "HzHKJKPkYkGF"
      },
      "execution_count": null,
      "outputs": []
    },
    {
      "cell_type": "code",
      "source": [
        "--12\n",
        "SELECT\n",
        "    count(*)\n",
        "FROM\n",
        "    channels AS t\n",
        "WHERE\n",
        "    t.title LIKE '_'\n",
        "    OR t.title LIKE '__';"
      ],
      "metadata": {
        "id": "7-UONghTYkGF"
      },
      "execution_count": null,
      "outputs": []
    },
    {
      "cell_type": "code",
      "source": [
        "###"
      ],
      "metadata": {
        "id": "VUlBI8hVYkGG"
      },
      "execution_count": null,
      "outputs": []
    },
    {
      "cell_type": "code",
      "source": [
        "--13\n",
        "SELECT *\n",
        "FROM\n",
        "    stories as t\n",
        "WHERE\n",
        "    t.user_id IN (2, 3, 4, 5, 6)\n",
        "ORDER BY\n",
        "    t.created_at;"
      ],
      "metadata": {
        "id": "ShgrBwT2YkGG"
      },
      "execution_count": null,
      "outputs": []
    },
    {
      "cell_type": "code",
      "source": [
        "###"
      ],
      "metadata": {
        "id": "Qy3hGaWeYkGG"
      },
      "execution_count": null,
      "outputs": []
    },
    {
      "cell_type": "code",
      "source": [
        "--14\n",
        "WITH subquery AS(\n",
        "    SELECT MIN(t.created_at) AS min_date\n",
        "    FROM user_settings AS t\n",
        ")\n",
        "\n",
        "SELECT\n",
        "    t.created_at\n",
        "    ,t.user_id\n",
        "FROM\n",
        "    user_settings AS t\n",
        "WHERE\n",
        "    t.is_premium_account\n",
        "    AND t.created_at = (SELECT t.min_date FROM subquery AS t);"
      ],
      "metadata": {
        "id": "glQPUg5FYkGG"
      },
      "execution_count": null,
      "outputs": []
    },
    {
      "cell_type": "code",
      "execution_count": null,
      "metadata": {
        "id": "8ul9uboYYkS5"
      },
      "outputs": [],
      "source": [
        "###"
      ]
    },
    {
      "cell_type": "code",
      "source": [
        "--15\n",
        "SELECT\n",
        "    MAX(t.created_at)\n",
        "FROM\n",
        "    stories AS t;"
      ],
      "metadata": {
        "id": "nZMvz5YvYkS6"
      },
      "execution_count": null,
      "outputs": []
    },
    {
      "cell_type": "code",
      "source": [
        "###"
      ],
      "metadata": {
        "id": "yOOUrKH9YkS6"
      },
      "execution_count": null,
      "outputs": []
    },
    {
      "cell_type": "code",
      "source": [
        "--16\n",
        "SELECT\n",
        "    SUM(t.views_count) AS sum_views\n",
        "FROM\n",
        "    stories AS t;"
      ],
      "metadata": {
        "id": "qQqb_DZTYkS7"
      },
      "execution_count": null,
      "outputs": []
    },
    {
      "cell_type": "code",
      "source": [
        "###"
      ],
      "metadata": {
        "id": "j6Gtn9sNYkS7"
      },
      "execution_count": null,
      "outputs": []
    },
    {
      "cell_type": "code",
      "source": [
        "--17\n",
        "SELECT\n",
        "    AVG(LENGTH(t.body)) AS mean_message_length\n",
        "FROM\n",
        "    private_messages AS t;"
      ],
      "metadata": {
        "id": "UtGiFwHMYkS7"
      },
      "execution_count": null,
      "outputs": []
    },
    {
      "cell_type": "code",
      "source": [
        "###"
      ],
      "metadata": {
        "id": "bJKWSHfgYkS8"
      },
      "execution_count": null,
      "outputs": []
    },
    {
      "cell_type": "code",
      "source": [
        "--18\n",
        "SELECT\n",
        "    t.user_id\n",
        "    ,COUNT(t.channel_id) AS channels_count\n",
        "FROM\n",
        "    channel_subscribers AS t\n",
        "WHERE\n",
        "    t.status = 'joined'\n",
        "GROUP BY\n",
        "    t.user_id\n",
        "ORDER BY\n",
        "    COUNT(t.channel_id) DESC\n",
        "LIMIT 1;"
      ],
      "metadata": {
        "id": "bCVbtJqeYkS_"
      },
      "execution_count": null,
      "outputs": []
    },
    {
      "cell_type": "code",
      "source": [
        "###"
      ],
      "metadata": {
        "id": "KNtah0D5Ykg2"
      },
      "execution_count": null,
      "outputs": []
    },
    {
      "cell_type": "code",
      "source": [
        "--19\n",
        "SELECT\n",
        "    t.id\n",
        "    ,LEFT(t.title, 30) AS title\n",
        "    ,t.is_private\n",
        "FROM\n",
        "    `groups` AS t\n",
        "WHERE\n",
        "    NOT t.is_private\n",
        "ORDER BY\n",
        "    t.title ASC;"
      ],
      "metadata": {
        "id": "IbVw-CWVxOuy"
      },
      "execution_count": null,
      "outputs": []
    },
    {
      "cell_type": "code",
      "source": [
        "###"
      ],
      "metadata": {
        "id": "GWui7EJYxOyo"
      },
      "execution_count": null,
      "outputs": []
    },
    {
      "cell_type": "code",
      "source": [
        "--20\n",
        "SELECT\n",
        "    t.is_premium_account\n",
        "    ,COUNT(*) AS users_amount\n",
        "FROM\n",
        "    user_settings AS t\n",
        "GROUP BY\n",
        "    t.is_premium_account;"
      ],
      "metadata": {
        "id": "vQbCCQHTxO29"
      },
      "execution_count": null,
      "outputs": []
    },
    {
      "cell_type": "code",
      "source": [
        "###"
      ],
      "metadata": {
        "id": "wq6Bz-_DxO66"
      },
      "execution_count": null,
      "outputs": []
    },
    {
      "cell_type": "code",
      "source": [
        "--21\n",
        "SELECT\n",
        "    COUNT(*) AS count\n",
        "    ,t.reaction_id\n",
        "FROM\n",
        "    private_message_reactions AS t\n",
        "GROUP BY\n",
        "    t.reaction_id\n",
        "ORDER BY\n",
        "    COUNT(*) DESC;"
      ],
      "metadata": {
        "id": "xGK170kjxO-U"
      },
      "execution_count": null,
      "outputs": []
    },
    {
      "cell_type": "code",
      "source": [
        "###"
      ],
      "metadata": {
        "id": "4RkxTCLdxPB7"
      },
      "execution_count": null,
      "outputs": []
    },
    {
      "cell_type": "code",
      "source": [
        "--22\n",
        "SELECT\n",
        "    COUNT(*) AS count\n",
        "    ,t.reaction_id\n",
        "FROM\n",
        "    private_message_reactions AS t\n",
        "GROUP BY\n",
        "    t.reaction_id\n",
        "HAVING\n",
        "    COUNT(*) > 80\n",
        "ORDER BY\n",
        "    COUNT(*) DESC;"
      ],
      "metadata": {
        "id": "fbiKpkypxPFt"
      },
      "execution_count": null,
      "outputs": []
    },
    {
      "cell_type": "code",
      "source": [
        "###"
      ],
      "metadata": {
        "id": "-67IQabBxPJf"
      },
      "execution_count": null,
      "outputs": []
    },
    {
      "cell_type": "code",
      "source": [
        "--23\n",
        "SELECT\n",
        "    COUNT(*) AS count\n",
        "FROM\n",
        "    channels AS t\n",
        "WHERE\n",
        "    t.icon IS NULL;"
      ],
      "metadata": {
        "id": "qpqJDx_-xPNL"
      },
      "execution_count": null,
      "outputs": []
    },
    {
      "cell_type": "code",
      "source": [
        "###"
      ],
      "metadata": {
        "id": "Q4j0_TxRxPQ2"
      },
      "execution_count": null,
      "outputs": []
    },
    {
      "cell_type": "code",
      "source": [
        "--24\n",
        "SELECT\n",
        "    COUNT(*)\n",
        "FROM\n",
        "    channels AS t\n",
        "WHERE\n",
        "    t.icon IS NOT NULL;"
      ],
      "metadata": {
        "id": "m_n4nRlexPUP"
      },
      "execution_count": null,
      "outputs": []
    },
    {
      "cell_type": "code",
      "source": [
        "###"
      ],
      "metadata": {
        "id": "3Cb6ZRYixPX1"
      },
      "execution_count": null,
      "outputs": []
    },
    {
      "cell_type": "code",
      "source": [
        "--25\n",
        "SELECT *\n",
        "FROM\n",
        "    users AS t\n",
        "ORDER BY\n",
        "    t.lastname ASC\n",
        "LIMIT 10 OFFSET 0;"
      ],
      "metadata": {
        "id": "0qlg3QZmxPbe"
      },
      "execution_count": null,
      "outputs": []
    },
    {
      "cell_type": "code",
      "source": [
        "###"
      ],
      "metadata": {
        "id": "ZtN57rcdxPe5"
      },
      "execution_count": null,
      "outputs": []
    },
    {
      "cell_type": "code",
      "source": [
        "--26\n",
        "SELECT *\n",
        "FROM\n",
        "    users AS t\n",
        "ORDER BY\n",
        "    t.lastname ASC\n",
        "LIMIT 10 OFFSET 10;"
      ],
      "metadata": {
        "id": "y7XaOliZxPip"
      },
      "execution_count": null,
      "outputs": []
    },
    {
      "cell_type": "code",
      "source": [
        "###"
      ],
      "metadata": {
        "id": "wRmx0dPlxPmW"
      },
      "execution_count": null,
      "outputs": []
    },
    {
      "cell_type": "code",
      "source": [
        "--27\n",
        "SELECT *\n",
        "FROM\n",
        "    users AS t\n",
        "ORDER BY\n",
        "    t.lastname ASC\n",
        "LIMIT 10 OFFSET 60;"
      ],
      "metadata": {
        "id": "QFv14Xb8xPp9"
      },
      "execution_count": null,
      "outputs": []
    },
    {
      "cell_type": "code",
      "source": [
        "###"
      ],
      "metadata": {
        "id": "fjzr9xnVxPuG"
      },
      "execution_count": null,
      "outputs": []
    },
    {
      "cell_type": "code",
      "source": [
        "--28\n",
        "SELECT\n",
        "    t.id\n",
        "    ,t.views_count\n",
        "    ,IF (t.views_count = 1000, 'popular', 'not popular') AS is_popular\n",
        "FROM\n",
        "    stories AS t;"
      ],
      "metadata": {
        "id": "bdkZK7OuxPyA"
      },
      "execution_count": null,
      "outputs": []
    },
    {
      "cell_type": "code",
      "source": [
        "###"
      ],
      "metadata": {
        "id": "8phLsIZ9xP2A"
      },
      "execution_count": null,
      "outputs": []
    },
    {
      "cell_type": "code",
      "source": [
        "--29\n",
        "SELECT\n",
        "    SUM(t.views_count) AS views_per_user\n",
        "    ,t.user_id\n",
        "FROM\n",
        "    stories AS t\n",
        "GROUP BY\n",
        "    t.user_id\n",
        "ORDER BY\n",
        "    t.user_id;"
      ],
      "metadata": {
        "id": "nq7tJ73MxP6V"
      },
      "execution_count": null,
      "outputs": []
    },
    {
      "cell_type": "code",
      "source": [
        "###"
      ],
      "metadata": {
        "id": "jeptAl0ExQaA"
      },
      "execution_count": null,
      "outputs": []
    },
    {
      "cell_type": "code",
      "source": [
        "--30\n",
        "SELECT\n",
        "    SUM(t.views_count) AS views_per_user\n",
        "    ,t.user_id\n",
        "FROM\n",
        "    stories AS t\n",
        "GROUP BY\n",
        "    t.user_id\n",
        "ORDER BY\n",
        "    SUM(t.views_count) DESC\n",
        "LIMIT 5;"
      ],
      "metadata": {
        "id": "KOZ_S1Mo3nYx"
      },
      "execution_count": null,
      "outputs": []
    },
    {
      "cell_type": "code",
      "source": [],
      "metadata": {
        "id": "6dMR5SELixaY"
      },
      "execution_count": null,
      "outputs": []
    }
  ]
}