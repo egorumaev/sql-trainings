{
  "nbformat": 4,
  "nbformat_minor": 0,
  "metadata": {
    "colab": {
      "provenance": []
    },
    "kernelspec": {
      "name": "python3",
      "display_name": "Python 3"
    },
    "language_info": {
      "name": "python"
    }
  },
  "cells": [
    {
      "cell_type": "markdown",
      "source": [
        "# **<font color='crimson'>SQL. Merging tables</font>**\n",
        "\n",
        "---"
      ],
      "metadata": {
        "id": "MoOoSqnkKj1m"
      }
    },
    {
      "cell_type": "code",
      "execution_count": null,
      "metadata": {
        "id": "29nsaPvCKRF0"
      },
      "outputs": [],
      "source": [
        "###"
      ]
    },
    {
      "cell_type": "code",
      "source": [
        "--1\n",
        "SELECT\n",
        "    t.user_id AS user_id_left\n",
        "    ,u.user_id AS user_id_right\n",
        "    ,t.order_id\n",
        "    ,t.time\n",
        "    ,t.action\n",
        "    ,u.sex\n",
        "    ,u.birth_date\n",
        "FROM\n",
        "    user_actions AS t\n",
        "    INNER JOIN users AS u\n",
        "        ON t.user_id = u.user_id\n",
        "ORDER By\n",
        "    t.user_id ASC;"
      ],
      "metadata": {
        "id": "wxrdBH-BKc7y"
      },
      "execution_count": null,
      "outputs": []
    },
    {
      "cell_type": "code",
      "source": [
        "###"
      ],
      "metadata": {
        "id": "jiwxPHvTKdBS"
      },
      "execution_count": null,
      "outputs": []
    },
    {
      "cell_type": "code",
      "source": [
        "--2\n",
        "SELECT\n",
        "    COUNT(DISTINCT t.user_id) AS users_count\n",
        "FROM\n",
        "    user_actions AS t\n",
        "    INNER JOIN users AS u\n",
        "        ON t.user_id = u.user_id;"
      ],
      "metadata": {
        "id": "Xw5LvemRKdIX"
      },
      "execution_count": null,
      "outputs": []
    },
    {
      "cell_type": "code",
      "source": [
        "###"
      ],
      "metadata": {
        "id": "rau0OYgTKdLk"
      },
      "execution_count": null,
      "outputs": []
    },
    {
      "cell_type": "code",
      "source": [
        "--3\n",
        "SELECT\n",
        "    t.user_id AS user_id_left\n",
        "    ,u.user_id AS user_id_right\n",
        "    ,t.order_id\n",
        "    ,t.time\n",
        "    ,t.action\n",
        "    ,u.sex\n",
        "    ,u.birth_date\n",
        "FROM\n",
        "    user_actions AS t\n",
        "    LEFT JOIN users AS u\n",
        "        ON t.user_id = u.user_id\n",
        "ORDER BY\n",
        "    t.user_id ASC;"
      ],
      "metadata": {
        "id": "6Bf7v5SdKdRS"
      },
      "execution_count": null,
      "outputs": []
    },
    {
      "cell_type": "code",
      "source": [
        "###"
      ],
      "metadata": {
        "id": "lkGnNcVhKdY6"
      },
      "execution_count": null,
      "outputs": []
    },
    {
      "cell_type": "code",
      "source": [
        "--4\n",
        "SELECT\n",
        "    COUNT(DISTINCT t.user_id) AS users_count\n",
        "FROM\n",
        "    user_actions AS t\n",
        "    LEFT JOIN users AS u\n",
        "        ON t.user_id = u.user_id;"
      ],
      "metadata": {
        "id": "K2xTHdCjKdcY"
      },
      "execution_count": null,
      "outputs": []
    },
    {
      "cell_type": "code",
      "source": [
        "###"
      ],
      "metadata": {
        "id": "_xdJTJ5sKdgY"
      },
      "execution_count": null,
      "outputs": []
    },
    {
      "cell_type": "code",
      "source": [
        "--5\n",
        "SELECT\n",
        "    t.user_id AS user_id_left\n",
        "    ,u.user_id AS user_id_right\n",
        "    ,t.order_id\n",
        "    ,t.time\n",
        "    ,t.action\n",
        "    ,u.sex\n",
        "    ,u.birth_date\n",
        "FROM\n",
        "    user_actions AS t\n",
        "    LEFT JOIN users AS u\n",
        "        ON t.user_id = u.user_id\n",
        "WHERE\n",
        "    u.user_id IS NOT NULL\n",
        "ORDER BY\n",
        "    t.user_id ASC;"
      ],
      "metadata": {
        "id": "-xG7msYCKdj1"
      },
      "execution_count": null,
      "outputs": []
    },
    {
      "cell_type": "code",
      "execution_count": null,
      "metadata": {
        "id": "-MD8XhD2Kg7J"
      },
      "outputs": [],
      "source": [
        "###"
      ]
    },
    {
      "cell_type": "code",
      "source": [
        "--6\n",
        "WITH u AS (\n",
        "    SELECT\n",
        "        birth_date\n",
        "        ,COUNT(user_id) AS users_count\n",
        "    FROM\n",
        "        users\n",
        "    WHERE\n",
        "        birth_date IS NOT NULL\n",
        "    GROUP BY\n",
        "        birth_date\n",
        "),\n",
        "c AS (\n",
        "    SELECT\n",
        "        birth_date\n",
        "        ,COUNT(courier_id) AS couriers_count\n",
        "    FROM\n",
        "        couriers\n",
        "    WHERE\n",
        "        birth_date IS NOT NULL\n",
        "    GROUP BY\n",
        "        birth_date\n",
        ")\n",
        "SELECT\n",
        "    u.birth_date AS users_birth_date\n",
        "    ,u.users_count\n",
        "    ,c.birth_date AS couriers_birth_date\n",
        "    ,c.couriers_count\n",
        "FROM u\n",
        "    FULL JOIN c\n",
        "        ON u.birth_date = c.birth_date\n",
        "ORDER BY\n",
        "    u.birth_date ASC\n",
        "    ,c.birth_date ASC;"
      ],
      "metadata": {
        "id": "WZMWpgwBKg7J"
      },
      "execution_count": null,
      "outputs": []
    },
    {
      "cell_type": "code",
      "source": [
        "###"
      ],
      "metadata": {
        "id": "6Jbcr62IKg7J"
      },
      "execution_count": null,
      "outputs": []
    },
    {
      "cell_type": "code",
      "source": [
        "--7\n",
        "--объединяем два запроса так, чтобы получить набор уникальных дат\n",
        "WITH subquery AS (\n",
        "    SELECT\n",
        "        u.birth_date\n",
        "    FROM\n",
        "        users AS u\n",
        "    WHERE\n",
        "        u.birth_date IS NOT NULL\n",
        "    UNION\n",
        "    SELECT\n",
        "        c.birth_date\n",
        "    FROM\n",
        "        couriers AS c\n",
        "    WHERE\n",
        "        c.birth_date IS NOT NULL\n",
        ")\n",
        "--вычислим количество уникальных дат\n",
        "SELECT\n",
        "    COUNT(DISTINCT t.birth_date) AS dates_count\n",
        "FROM\n",
        "    subquery AS t;"
      ],
      "metadata": {
        "id": "hKLSLOkzKg7K"
      },
      "execution_count": null,
      "outputs": []
    },
    {
      "cell_type": "code",
      "source": [
        "###"
      ],
      "metadata": {
        "id": "SLNemGssKg7K"
      },
      "execution_count": null,
      "outputs": []
    },
    {
      "cell_type": "code",
      "source": [
        "--8\n",
        "--отбираем id первых 100 пользователей\n",
        "WITH subquery AS (\n",
        "    SELECT\n",
        "        u.user_id\n",
        "    FROM\n",
        "    users AS u\n",
        "    LIMIT 100)\n",
        "--объединяем id первых 100 пользователей и названия товаров\n",
        "SELECT\n",
        "    u.user_id ,\n",
        "    p.name\n",
        "FROM\n",
        "    subquery AS u\n",
        "    CROSS JOIN products AS p\n",
        "ORDER BY\n",
        "    u.user_id ASC\n",
        "    ,p.name ASC;"
      ],
      "metadata": {
        "id": "17HOGnPLKg7K"
      },
      "execution_count": null,
      "outputs": []
    },
    {
      "cell_type": "code",
      "source": [
        "###"
      ],
      "metadata": {
        "id": "R0-fyfw2Kg7K"
      },
      "execution_count": null,
      "outputs": []
    },
    {
      "cell_type": "code",
      "source": [
        "--9\n",
        "SELECT\n",
        "    u.user_id\n",
        "    ,u.order_id\n",
        "    ,o.product_ids\n",
        "FROM\n",
        "    user_actions AS u\n",
        "    LEFT JOIN orders AS o\n",
        "        ON u.order_id = o.order_id\n",
        "ORDER BY\n",
        "    u.user_id ASC\n",
        "    ,o.order_id ASC\n",
        "LIMIT 1000;"
      ],
      "metadata": {
        "id": "IdFKkR4CKg7K"
      },
      "execution_count": null,
      "outputs": []
    },
    {
      "cell_type": "code",
      "source": [
        "###"
      ],
      "metadata": {
        "id": "IHhi8oqkKg7K"
      },
      "execution_count": null,
      "outputs": []
    },
    {
      "cell_type": "code",
      "source": [
        "--10\n",
        "--отбираем id отмененных заказов\n",
        "WITH orders_cancel AS (\n",
        "    SELECT\n",
        "        DISTINCT t.order_id AS orders_id_canceled\n",
        "    FROM\n",
        "        user_actions AS t\n",
        "    WHERE\n",
        "        t.action = 'cancel_order'\n",
        ")\n",
        "--объединяем две таблицы, оставив только\n",
        "--уникальные неотмененные заказы\n",
        "SELECT\n",
        "    u.user_id\n",
        "    ,u.order_id\n",
        "    ,o.product_ids\n",
        "FROM\n",
        "    user_actions AS u\n",
        "    LEFT JOIN orders AS o\n",
        "        ON u.order_id = o.order_id\n",
        "WHERE\n",
        "    u.order_id NOT IN (\n",
        "        SELECT t.orders_id_canceled\n",
        "        FROM orders_cancel AS t)\n",
        "ORDER BY\n",
        "    u.user_id ASC\n",
        "    ,o.order_id ASC\n",
        "LIMIT 1000;"
      ],
      "metadata": {
        "id": "4whRFpIYKg7K"
      },
      "execution_count": null,
      "outputs": []
    },
    {
      "cell_type": "code",
      "execution_count": null,
      "metadata": {
        "id": "QzqR_ng9KhP2"
      },
      "outputs": [],
      "source": [
        "###"
      ]
    },
    {
      "cell_type": "code",
      "source": [
        "--11\n",
        "--отбираем id отмененных заказов\n",
        "WITH orders_cancel AS (\n",
        "    SELECT\n",
        "        DISTINCT t.order_id AS orders_id_canceled\n",
        "    FROM\n",
        "        user_actions AS t\n",
        "    WHERE\n",
        "        t.action = 'cancel_order'\n",
        ")\n",
        "--объединяем две таблицы, оставив только\n",
        "--уникальные неотмененные заказы\n",
        "SELECT\n",
        "    u.user_id\n",
        "    ,ROUND(AVG(ARRAY_LENGTH(o.product_ids, 1)), 2) AS avg_order_size\n",
        "FROM\n",
        "    user_actions AS u\n",
        "    LEFT JOIN orders AS o\n",
        "        ON u.order_id = o.order_id\n",
        "WHERE\n",
        "    u.order_id NOT IN (\n",
        "        SELECT t.orders_id_canceled\n",
        "        FROM orders_cancel AS t)\n",
        "GROUP BY\n",
        "    u.user_id\n",
        "ORDER BY\n",
        "    u.user_id ASC\n",
        "LIMIT 1000;"
      ],
      "metadata": {
        "id": "7SsO3Qd7KhP2"
      },
      "execution_count": null,
      "outputs": []
    },
    {
      "cell_type": "code",
      "source": [
        "###"
      ],
      "metadata": {
        "id": "Aq03cSaqKhP3"
      },
      "execution_count": null,
      "outputs": []
    },
    {
      "cell_type": "code",
      "source": [
        "--12\n",
        "--'разворачиваем' списки с товарами в каждом заказе\n",
        "WITH subquery AS (\n",
        "    SELECT\n",
        "        t.order_id\n",
        "        ,UNNEST(t.product_ids) AS product_id\n",
        "    FROM\n",
        "        orders AS t\n",
        ")\n",
        "--добавляем к subquery из таблицы products\n",
        "--сведения о цене каждого товара\n",
        "SELECT\n",
        "    t.order_id\n",
        "    ,t.product_id\n",
        "    ,p.price\n",
        "FROM\n",
        "    subquery AS t\n",
        "    LEFT JOIN products AS p\n",
        "        ON t.product_id = p.product_id\n",
        "ORDER BY\n",
        "    t.order_id ASC\n",
        "    ,t.product_id ASC\n",
        "LIMIT 1000;"
      ],
      "metadata": {
        "id": "srZOupq6KhP3"
      },
      "execution_count": null,
      "outputs": []
    },
    {
      "cell_type": "code",
      "source": [
        "###"
      ],
      "metadata": {
        "id": "JS9OaK4mKhP3"
      },
      "execution_count": null,
      "outputs": []
    },
    {
      "cell_type": "code",
      "source": [
        "--13\n",
        "--'разворачиваем' списки с товарами в каждом заказе\n",
        "WITH subquery AS (\n",
        "    SELECT\n",
        "        t.order_id\n",
        "        ,UNNEST(t.product_ids) AS product_id\n",
        "    FROM\n",
        "        orders AS t\n",
        ")\n",
        "--добавляем к subquery из таблицы products\n",
        "--сведения о цене каждого товара\n",
        "SELECT\n",
        "    t.order_id\n",
        "    ,SUM(p.price) AS order_price\n",
        "FROM\n",
        "    subquery AS t\n",
        "    LEFT JOIN products AS p\n",
        "        ON t.product_id = p.product_id\n",
        "GROUP BY\n",
        "    t.order_id\n",
        "ORDER BY\n",
        "    t.order_id ASC\n",
        "LIMIT 1000;"
      ],
      "metadata": {
        "id": "BFZVMEr6KhP4"
      },
      "execution_count": null,
      "outputs": []
    },
    {
      "cell_type": "code",
      "source": [
        "###"
      ],
      "metadata": {
        "id": "tH1C3dlgKhP4"
      },
      "execution_count": null,
      "outputs": []
    },
    {
      "cell_type": "code",
      "source": [
        "--14\n",
        "--отбираем id отмененных заказов\n",
        "WITH orders_cancel AS (\n",
        "    SELECT\n",
        "        DISTINCT t.order_id AS orders_id_canceled\n",
        "    FROM\n",
        "        user_actions AS t\n",
        "    WHERE\n",
        "        t.action = 'cancel_order'\n",
        "),\n",
        "--'разворачиваем' списки с товарами в каждом заказе,\n",
        "--оставив только уникальные неотмененные заказы\n",
        "unnest_table AS (\n",
        "    SELECT\n",
        "        t.order_id\n",
        "        ,UNNEST(t.product_ids) AS product_id\n",
        "    FROM\n",
        "        orders AS t\n",
        "    WHERE\n",
        "        t.order_id NOT IN (\n",
        "        SELECT t.orders_id_canceled\n",
        "        FROM orders_cancel AS t\n",
        "    )\n",
        "),\n",
        "--объединяем таблицы,\n",
        "--рассчитываем стоимость каждого заказа\n",
        "--и количество товаров в каждом заказе\n",
        "info_per_order AS (\n",
        "    SELECT\n",
        "        users.user_id\n",
        "        ,users.order_id\n",
        "        ,SUM(p.price) AS order_price\n",
        "        ,COUNT(u.product_id) AS order_size\n",
        "    FROM\n",
        "        unnest_table AS u\n",
        "        LEFT JOIN products AS p\n",
        "            ON u.product_id = p.product_id\n",
        "        LEFT JOIN user_actions AS users\n",
        "            ON u.order_id = users.order_id\n",
        "    GROUP BY\n",
        "        users.user_id\n",
        "        ,users.order_id\n",
        "    ORDER BY\n",
        "        users.user_id ASC\n",
        ")\n",
        "--рассчитываем агрегирующие метрики\n",
        "--по заказам каждого пользователя\n",
        "SELECT\n",
        "    t.user_id\n",
        "    ,COUNT(t.order_id) AS orders_count\n",
        "    ,ROUND(AVG(t.order_size), 2) AS avg_order_size\n",
        "    ,SUM(t.order_price) AS sum_order_value\n",
        "    ,ROUND(AVG(t.order_price), 2) AS avg_order_value\n",
        "    ,MIN(t.order_price) AS min_order_value\n",
        "    ,MAX(t.order_price) AS max_order_value\n",
        "FROM\n",
        "    info_per_order AS t\n",
        "GROUP BY\n",
        "    t.user_id\n",
        "ORDER BY\n",
        "    t.user_id ASC\n",
        "LIMIT 1000;"
      ],
      "metadata": {
        "id": "x3igSLHBKhP4"
      },
      "execution_count": null,
      "outputs": []
    },
    {
      "cell_type": "code",
      "source": [
        "###"
      ],
      "metadata": {
        "id": "gr_x2_R6KhP5"
      },
      "execution_count": null,
      "outputs": []
    },
    {
      "cell_type": "code",
      "source": [
        "--15\n",
        "--отбираем id отмененных заказов\n",
        "WITH orders_cancel AS (\n",
        "    SELECT\n",
        "        DISTINCT t.order_id AS orders_id_canceled\n",
        "    FROM\n",
        "        user_actions AS t\n",
        "    WHERE\n",
        "        t.action = 'cancel_order'\n",
        "),\n",
        "--'разворачиваем' списки с товарами в каждом заказе,\n",
        "--оставив только уникальные неотмененные заказы\n",
        "unnest_table AS (\n",
        "    SELECT\n",
        "        t.order_id\n",
        "        ,t.creation_time::DATE as date\n",
        "        ,UNNEST(t.product_ids) AS product_id\n",
        "    FROM\n",
        "        orders AS t\n",
        "    WHERE\n",
        "        t.order_id NOT IN (\n",
        "        SELECT t.orders_id_canceled\n",
        "        FROM orders_cancel AS t\n",
        "    )\n",
        ")\n",
        "--объединяем таблицы,\n",
        "--рассчитываем стоимость каждого заказа\n",
        "--и количество товаров в каждом заказе\n",
        "SELECT\n",
        "    u.date\n",
        "    ,SUM(p.price)::DECIMAL AS revenue\n",
        "FROM\n",
        "    unnest_table AS u\n",
        "    LEFT JOIN products AS p\n",
        "        ON u.product_id = p.product_id\n",
        "GROUP BY\n",
        "    u.date\n",
        "ORDER BY\n",
        "    u.date ASC;"
      ],
      "metadata": {
        "id": "Fb8eq8GjKhP5"
      },
      "execution_count": null,
      "outputs": []
    },
    {
      "cell_type": "code",
      "execution_count": null,
      "metadata": {
        "id": "tmvcs8wNKhbp"
      },
      "outputs": [],
      "source": [
        "###"
      ]
    },
    {
      "cell_type": "code",
      "source": [
        "--16\n",
        "--отбираем id заказов, доставленных в сентябре 2022 года\n",
        "WITH orders_september AS (\n",
        "    SELECT\n",
        "        t.order_id\n",
        "        ,t.action\n",
        "        ,t.time\n",
        "    FROM\n",
        "        courier_actions AS t\n",
        "    WHERE\n",
        "        t.action = 'deliver_order'\n",
        "        AND (t.time BETWEEN '2022-09-01' AND '2022-10-01')\n",
        "    ),\n",
        "--трансформируем списки с id заказанных товаров,\n",
        "--содержащиеся в признаке product_ids,\n",
        "--исключив заказы, не соответствующие условиям\n",
        "unnest_table AS (\n",
        "    SELECT\n",
        "        DISTINCT t.order_id\n",
        "        ,UNNEST(product_ids) AS product_id\n",
        "    FROM\n",
        "        orders AS t\n",
        "    WHERE\n",
        "        t.order_id IN (\n",
        "            SELECT t.order_id FROM orders_september AS t)\n",
        "    GROUP BY\n",
        "        t.order_id\n",
        "        ,UNNEST(product_ids)\n",
        ")\n",
        "--определяем 10 самых популярных товаров в таблице orders\n",
        "SELECT\n",
        "    p.name\n",
        "    ,COUNT(t.product_id) AS times_purchased\n",
        "FROM\n",
        "    unnest_table AS t\n",
        "    LEFT JOIN products AS p\n",
        "        ON t.product_id = p.product_id\n",
        "GROUP BY\n",
        "    p.name\n",
        "    ,t.product_id\n",
        "ORDER BY\n",
        "    COUNT(t.product_id) DESC\n",
        "LIMIT 10;"
      ],
      "metadata": {
        "id": "52LJ9qhWKhbq"
      },
      "execution_count": null,
      "outputs": []
    },
    {
      "cell_type": "code",
      "source": [
        "###"
      ],
      "metadata": {
        "id": "f50bc77eKhbq"
      },
      "execution_count": null,
      "outputs": []
    },
    {
      "cell_type": "code",
      "source": [
        "--17\n",
        "--рассчитываем долю отмененных заказов\n",
        "--каждого пользователя\n",
        "WITH users_cancel_rate AS (\n",
        "    SELECT\n",
        "        t.user_id\n",
        "        ,ROUND(COUNT(t.order_id) FILTER (WHERE t.action = 'cancel_order') * 1.0\n",
        "        / COUNT(t.order_id) FILTER (WHERE t.action = 'create_order'), 3) AS cancel_rate\n",
        "    FROM\n",
        "        user_actions AS t\n",
        "    GROUP BY\n",
        "        t.user_id\n",
        "    ORDER BY\n",
        "        t.user_id\n",
        "),\n",
        "--таблицу с расчитанной долей отмены заказов каждого пользовтаеля\n",
        "--объединим с таблицей с информацией о пользователях\n",
        "users_sex AS (\n",
        "    SELECT\n",
        "        t.user_id\n",
        "        ,t.cancel_rate\n",
        "        ,u.sex\n",
        "    FROM\n",
        "        users_cancel_rate AS t\n",
        "        LEFT JOIN users AS u\n",
        "            ON t.user_id = u.user_id\n",
        ")\n",
        "--рассчитываем среднее значение доли отмена заказов\n",
        "--в зависимости от пола пользователя\n",
        "SELECT\n",
        "    COALESCE(t.sex, 'unknown') AS sex\n",
        "    ,ROUND(AVG(t.cancel_rate), 3) AS avg_cancel_rate\n",
        "FROM\n",
        "    users_sex AS t\n",
        "GROUP BY\n",
        "    t.sex\n",
        "ORDER BY\n",
        "    t.sex ASC;"
      ],
      "metadata": {
        "id": "xJ3eHerTKhbq"
      },
      "execution_count": null,
      "outputs": []
    },
    {
      "cell_type": "code",
      "source": [
        "###"
      ],
      "metadata": {
        "id": "DhZE3cULKhbq"
      },
      "execution_count": null,
      "outputs": []
    },
    {
      "cell_type": "code",
      "source": [
        "--18\n",
        "--отфильтровываем из таблицы courier_actions\n",
        "--только те заказы, которые были доставлены\n",
        "WITH deliver_orders AS (\n",
        "    SELECT\n",
        "        t.order_id\n",
        "        ,t.time AS time_deliver\n",
        "    FROM\n",
        "        courier_actions AS t\n",
        "    WHERE\n",
        "        t.action = 'deliver_order'\n",
        ")\n",
        "--объединим таблицы deliver_orders и orders,\n",
        "--оставив только order_id из таблицы deliver_orders\n",
        "SELECT\n",
        "    t.order_id\n",
        "FROM deliver_orders AS t\n",
        "    INNER JOIN orders AS o\n",
        "        ON t.order_id = o.order_id\n",
        "ORDER BY\n",
        "    t.time_deliver - o.creation_time DESC\n",
        "LIMIT 10;"
      ],
      "metadata": {
        "id": "XnQERMT_Khbq"
      },
      "execution_count": null,
      "outputs": []
    },
    {
      "cell_type": "code",
      "source": [
        "###"
      ],
      "metadata": {
        "id": "kf7EHG5DKhbq"
      },
      "execution_count": null,
      "outputs": []
    },
    {
      "cell_type": "code",
      "source": [
        "--19\n",
        "--'разворачиваем' id товаров, представленные\n",
        "--в признаке 'product_ids' таблицы orders\n",
        "WITH product_id_list AS (\n",
        "SELECT\n",
        "    t.order_id\n",
        "    ,UNNEST(t.product_ids) AS product_id\n",
        "FROM\n",
        "    orders AS t\n",
        ")\n",
        "--объединяем таблицы product_id_list и products\n",
        "--для присовения каждому product_id названия товара\n",
        "SELECT\n",
        "    t.order_id\n",
        "    ,ARRAY_AGG(p.name) AS product_names\n",
        "FROM\n",
        "    product_id_list AS t\n",
        "    LEFT JOIN products AS p\n",
        "        ON t.product_id = p.product_id\n",
        "GROUP BY\n",
        "    t.order_id\n",
        "LIMIT 1000;"
      ],
      "metadata": {
        "id": "oJ1CcN2tKhbq"
      },
      "execution_count": null,
      "outputs": []
    },
    {
      "cell_type": "code",
      "source": [
        "###"
      ],
      "metadata": {
        "id": "y5IveWWiKhbq"
      },
      "execution_count": null,
      "outputs": []
    },
    {
      "cell_type": "code",
      "source": [
        "--20\n",
        "--отберем самую позднюю регистрируемую в базе данных\n",
        "--дату наблюдений активности пользователей\n",
        "WITH last_date AS (\n",
        "    SELECT\n",
        "        MAX(t.time) AS max_time\n",
        "    FROM\n",
        "        user_actions AS t\n",
        "),\n",
        "--выясним, сколько товаров входит в самый большой заказ\n",
        "max_size_order AS (\n",
        "SELECT\n",
        "    ARRAY_LENGTH(t.product_ids, 1) AS max_size\n",
        "FROM\n",
        "    orders AS t\n",
        "ORDER BY\n",
        "    ARRAY_LENGTH(t.product_ids, 1) DESC\n",
        "LIMIT 1),\n",
        "--отберем из таблицы orders id всех заказов\n",
        "--с числом товаров, равным максимальному\n",
        "orders_with_max_size AS (\n",
        "SELECT\n",
        "    t.order_id AS max_orders_id\n",
        "FROM\n",
        "    orders As t\n",
        "WHERE\n",
        "    ARRAY_LENGTH(t.product_ids, 1) = (\n",
        "        SELECT t.max_size\n",
        "        FROM max_size_order AS t)\n",
        ")\n",
        "--выведем информацию о тех, кто заказывал и доставлял\n",
        "--самые большие заказы\n",
        "SELECT\n",
        "    t.order_id\n",
        "    ,users.user_id\n",
        "    ,DATE_PART(\n",
        "        'year', AGE(\n",
        "            (SELECT t.max_time FROM last_date AS t),\n",
        "            users.birth_date))::INT AS user_age\n",
        "    ,couriers.courier_id\n",
        "    ,DATE_PART(\n",
        "        'year', AGE(\n",
        "            (SELECT t.max_time FROM last_date AS t),\n",
        "            couriers.birth_date))::INT AS courier_age\n",
        "FROM\n",
        "    courier_actions As t\n",
        "    LEFT JOIN user_actions AS u\n",
        "        ON t.order_id = u.order_id\n",
        "    LEFT JOIN users\n",
        "        ON users.user_id = u.user_id\n",
        "    LEFT JOIN couriers\n",
        "        ON couriers.courier_id = t.courier_id\n",
        "WHERE t.action = 'deliver_order'\n",
        "    AND t.order_id IN (\n",
        "        SELECT t.max_orders_id\n",
        "        FROM orders_with_max_size AS t\n",
        "        )\n",
        "ORDER BY\n",
        "    t.order_id;"
      ],
      "metadata": {
        "id": "LWLOqNvUKhbq"
      },
      "execution_count": null,
      "outputs": []
    },
    {
      "cell_type": "code",
      "execution_count": null,
      "metadata": {
        "id": "jXf84GTnKhl6"
      },
      "outputs": [],
      "source": [
        "###"
      ]
    },
    {
      "cell_type": "code",
      "source": [],
      "metadata": {
        "id": "BhpSfzAYKhxU"
      },
      "execution_count": null,
      "outputs": []
    }
  ]
}