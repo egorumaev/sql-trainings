{
  "nbformat": 4,
  "nbformat_minor": 0,
  "metadata": {
    "colab": {
      "provenance": []
    },
    "kernelspec": {
      "name": "python3",
      "display_name": "Python 3"
    },
    "language_info": {
      "name": "python"
    }
  },
  "cells": [
    {
      "cell_type": "markdown",
      "source": [
        "# **<font color='crimson'>MySQL. Select queries from A to Z. Part 2</font>**\n",
        "\n",
        "---"
      ],
      "metadata": {
        "id": "CjT5w9s6YcKa"
      }
    },
    {
      "cell_type": "code",
      "execution_count": null,
      "metadata": {
        "id": "CoEAJXqDYV9Z"
      },
      "outputs": [],
      "source": [
        "###"
      ]
    },
    {
      "cell_type": "code",
      "source": [
        "--1\n",
        "SELECT\n",
        "    t.lastname\n",
        "    ,t.firstname\n",
        "    ,t.birthday\n",
        "FROM\n",
        "    users AS t\n",
        "WHERE\n",
        "    t.email = 'mgoyette@example.org';"
      ],
      "metadata": {
        "id": "dL7LH9xGYbjq"
      },
      "execution_count": null,
      "outputs": []
    },
    {
      "cell_type": "code",
      "source": [
        "###"
      ],
      "metadata": {
        "id": "QET62ZQZYbwU"
      },
      "execution_count": null,
      "outputs": []
    },
    {
      "cell_type": "code",
      "source": [
        "--2\n",
        "SELECT\n",
        "    t.lastname\n",
        "    ,t.firstname\n",
        "    ,t.birthday\n",
        "    ,(\n",
        "        SELECT us.app_language\n",
        "        FROM user_settings AS us\n",
        "        WHERE t.id = us.user_id\n",
        "    ) AS app_language\n",
        "FROM\n",
        "    users AS t\n",
        "WHERE\n",
        "    t.email = 'mgoyette@example.org';"
      ],
      "metadata": {
        "id": "HC8BdWVKYbzq"
      },
      "execution_count": null,
      "outputs": []
    },
    {
      "cell_type": "code",
      "source": [
        "###"
      ],
      "metadata": {
        "id": "YeB8zIlhYb2w"
      },
      "execution_count": null,
      "outputs": []
    },
    {
      "cell_type": "code",
      "source": [
        "--3\n",
        "SELECT\n",
        "    t.lastname\n",
        "    ,t.firstname\n",
        "    ,t.birthday\n",
        "    ,(\n",
        "        SELECT us.app_language\n",
        "        FROM user_settings AS us\n",
        "        WHERE us.user_id = 10\n",
        "    ) AS app_language\n",
        "FROM\n",
        "    users AS t\n",
        "WHERE\n",
        "    t.id = 10;"
      ],
      "metadata": {
        "id": "ymfpqAcTYb58"
      },
      "execution_count": null,
      "outputs": []
    },
    {
      "cell_type": "code",
      "source": [
        "###"
      ],
      "metadata": {
        "id": "WGz6Ob9YYb9H"
      },
      "execution_count": null,
      "outputs": []
    },
    {
      "cell_type": "code",
      "source": [
        "--4\n",
        "SELECT\n",
        "    t.firstname\n",
        "    ,t.lastname\n",
        "FROM\n",
        "    users AS t\n",
        "WHERE t.id IN (\n",
        "    SELECT t.user_id\n",
        "    FROM user_settings AS t\n",
        "    WHERE t.app_language = 'russian'\n",
        "    )\n",
        "ORDER BY\n",
        "    t.lastname ASC;"
      ],
      "metadata": {
        "id": "rGkEmH5mYcAk"
      },
      "execution_count": null,
      "outputs": []
    },
    {
      "cell_type": "code",
      "source": [
        "###"
      ],
      "metadata": {
        "id": "uAScR1WHYcD5"
      },
      "execution_count": null,
      "outputs": []
    },
    {
      "cell_type": "code",
      "source": [
        "--5\n",
        "SELECT\n",
        "    t.id\n",
        "    ,t.views_count\n",
        "    ,t.created_at\n",
        "FROM\n",
        "    stories AS t\n",
        "WHERE\n",
        "    t.user_id = 2\n",
        "ORDER BY\n",
        "    t.views_count DESC;"
      ],
      "metadata": {
        "id": "FntudgP5YcHA"
      },
      "execution_count": null,
      "outputs": []
    },
    {
      "cell_type": "code",
      "execution_count": null,
      "metadata": {
        "id": "_rbe8PUdYj33"
      },
      "outputs": [],
      "source": [
        "###"
      ]
    },
    {
      "cell_type": "code",
      "source": [
        "--6\n",
        "SELECT\n",
        "    t.id\n",
        "    ,t.views_count\n",
        "    ,t.created_at\n",
        "    ,(SELECT t.firstname FROM users AS t WHERE t.id = 2) AS name\n",
        "    ,(SELECT t.lastname FROM users AS t WHERE t.id = 2) AS lastname\n",
        "FROM\n",
        "    stories AS t\n",
        "WHERE\n",
        "    t.user_id = 2\n",
        "ORDER BY\n",
        "    t.views_count DESC;"
      ],
      "metadata": {
        "id": "9GQe84SnYj34"
      },
      "execution_count": null,
      "outputs": []
    },
    {
      "cell_type": "code",
      "source": [
        "###"
      ],
      "metadata": {
        "id": "ITPNY4zBYj35"
      },
      "execution_count": null,
      "outputs": []
    },
    {
      "cell_type": "code",
      "source": [
        "--7\n",
        "--вычисляем суммарное количество лайков каждой истории пользователя с id  = 2\n",
        "WITH subquery AS (\n",
        "    SELECT\n",
        "        t.story_id\n",
        "        ,COUNT(1) AS count\n",
        "    FROM\n",
        "        stories_likes AS t\n",
        "    WHERE t.story_id IN (\n",
        "        SELECT t.id FROM stories AS t WHERE t.user_id = 2\n",
        "        )\n",
        "    GROUP BY\n",
        "        t.story_id\n",
        ")\n",
        "--добавляем в подготовленный ранее запрос сведения о количестве лайков\n",
        "SELECT\n",
        "    t.id\n",
        "    ,t.views_count\n",
        "    ,t.created_at\n",
        "    ,(SELECT t.firstname FROM users AS t WHERE t.id = 2) AS name\n",
        "    ,(SELECT t.lastname FROM users AS t WHERE t.id = 2) AS lastname\n",
        "    ,s.count\n",
        "FROM\n",
        "    stories AS t\n",
        "    INNER JOIN subquery AS s\n",
        "    ON t.id = s.story_id\n",
        "WHERE\n",
        "    t.user_id = 2\n",
        "ORDER BY\n",
        "    t.views_count DESC;"
      ],
      "metadata": {
        "id": "g8BJQ4BtYj35"
      },
      "execution_count": null,
      "outputs": []
    },
    {
      "cell_type": "code",
      "source": [
        "###"
      ],
      "metadata": {
        "id": "mgFG8OxJYj37"
      },
      "execution_count": null,
      "outputs": []
    },
    {
      "cell_type": "code",
      "source": [
        "--8\n",
        "SELECT\n",
        "    t.id\n",
        "    ,t.sender_id\n",
        "    ,SUBSTRING(t.body, 1, 30) AS body\n",
        "    ,t.created_at\n",
        "FROM\n",
        "    group_messages AS t\n",
        "WHERE\n",
        "    t.group_id = 11\n",
        "    AND t.media_type = 'text'\n",
        "ORDER BY\n",
        "    t.created_at ASC;"
      ],
      "metadata": {
        "id": "SHszfeNEYj37"
      },
      "execution_count": null,
      "outputs": []
    },
    {
      "cell_type": "code",
      "source": [
        "###"
      ],
      "metadata": {
        "id": "KvRH-_dCYj38"
      },
      "execution_count": null,
      "outputs": []
    },
    {
      "cell_type": "code",
      "source": [
        "--9\n",
        "SELECT\n",
        "    t.id\n",
        "    ,(SELECT u.firstname FROM users AS u WHERE u.id = t.sender_id) AS firstname\n",
        "    ,(SELECT u.lastname FROM users AS u WHERE u.id = t.sender_id) AS lastname\n",
        "    ,SUBSTRING(t.body, 1, 30) AS body\n",
        "    ,t.created_at\n",
        "FROM\n",
        "    group_messages AS t\n",
        "WHERE\n",
        "    t.group_id = 11\n",
        "    AND t.media_type = 'text'\n",
        "ORDER BY\n",
        "    t.created_at ASC;"
      ],
      "metadata": {
        "id": "Aj95I3ljAhAh"
      },
      "execution_count": null,
      "outputs": []
    },
    {
      "cell_type": "code",
      "execution_count": null,
      "metadata": {
        "id": "VxwzNTVYYkGF"
      },
      "outputs": [],
      "source": [
        "###"
      ]
    },
    {
      "cell_type": "code",
      "source": [
        "--10\n",
        "SELECT\n",
        "    t.firstname\n",
        "    ,t.lastname\n",
        "    ,t.birthday\n",
        "    ,us.app_language\n",
        "FROM\n",
        "    users AS t\n",
        "    LEFT JOIN user_settings AS us\n",
        "    ON t.id = us.user_id\n",
        "WHERE\n",
        "    t.email = 'mgoyette@example.org';"
      ],
      "metadata": {
        "id": "taCAZApGYkGF"
      },
      "execution_count": null,
      "outputs": []
    },
    {
      "cell_type": "code",
      "source": [
        "###"
      ],
      "metadata": {
        "id": "Mp9AlNSMYkGF"
      },
      "execution_count": null,
      "outputs": []
    },
    {
      "cell_type": "code",
      "source": [
        "--11\n",
        "SELECT\n",
        "    t.firstname\n",
        "    ,t.lastname\n",
        "    ,t.birthday\n",
        "    ,us.app_language\n",
        "FROM\n",
        "    users AS t\n",
        "    LEFT JOIN user_settings AS us\n",
        "    ON t.id = us.user_id\n",
        "WHERE\n",
        "    t.id = 10;"
      ],
      "metadata": {
        "id": "BzMGd9aEYkGF"
      },
      "execution_count": null,
      "outputs": []
    },
    {
      "cell_type": "code",
      "source": [
        "###"
      ],
      "metadata": {
        "id": "HzHKJKPkYkGF"
      },
      "execution_count": null,
      "outputs": []
    },
    {
      "cell_type": "code",
      "source": [
        "--12\n",
        "SELECT\n",
        "    t.firstname\n",
        "    ,t.lastname\n",
        "FROM\n",
        "    users as t\n",
        "    LEFT JOIN user_settings AS us\n",
        "    ON t.id = us.user_id\n",
        "WHERE\n",
        "    us.app_language = 'russian'\n",
        "ORDER BY\n",
        "    t.lastname;"
      ],
      "metadata": {
        "id": "7-UONghTYkGF"
      },
      "execution_count": null,
      "outputs": []
    },
    {
      "cell_type": "code",
      "source": [
        "###"
      ],
      "metadata": {
        "id": "VUlBI8hVYkGG"
      },
      "execution_count": null,
      "outputs": []
    },
    {
      "cell_type": "code",
      "source": [
        "--13\n",
        "SELECT\n",
        "    t.id\n",
        "    ,t.views_count\n",
        "    ,t.created_at\n",
        "    ,u.firstname\n",
        "    ,u.lastname\n",
        "FROM\n",
        "    stories AS t\n",
        "    LEFT JOIN users AS u\n",
        "    ON t.user_id = u.id\n",
        "WHERE\n",
        "    t.user_id = 2\n",
        "ORDER BY\n",
        "    t.views_count DESC;"
      ],
      "metadata": {
        "id": "ShgrBwT2YkGG"
      },
      "execution_count": null,
      "outputs": []
    },
    {
      "cell_type": "code",
      "source": [
        "###"
      ],
      "metadata": {
        "id": "Qy3hGaWeYkGG"
      },
      "execution_count": null,
      "outputs": []
    },
    {
      "cell_type": "code",
      "source": [
        "--14\n",
        "# 1-й вариант решения\n",
        "--считаем, сколько лайков собрала каждая из опубликованных историй\n",
        "WITH subquery AS (\n",
        "    SELECT\n",
        "        t.story_id\n",
        "        ,COUNT(t.story_id) AS likes_count\n",
        "    FROM\n",
        "        stories_likes AS t\n",
        "    GROUP BY\n",
        "        t.story_id\n",
        ")\n",
        "--объединяем таблицы с целью фильтрации лайков историй пользователя с id = 2\n",
        "SELECT\n",
        "    t.id\n",
        "    ,s.likes_count\n",
        "FROM\n",
        "    stories AS t\n",
        "    LEFT JOIN subquery AS s\n",
        "    ON t.id = s.story_id\n",
        "WHERE\n",
        "    t.user_id = 2\n",
        "ORDER BY\n",
        "    s.likes_count DESC;"
      ],
      "metadata": {
        "id": "glQPUg5FYkGG"
      },
      "execution_count": null,
      "outputs": []
    },
    {
      "cell_type": "code",
      "execution_count": null,
      "metadata": {
        "id": "8ul9uboYYkS5"
      },
      "outputs": [],
      "source": [
        "###"
      ]
    },
    {
      "cell_type": "code",
      "source": [
        "--15\n",
        "# 2-й вариант решения\n",
        "SELECT\n",
        "    t.id\n",
        "    ,COUNT(1) AS likes_count\n",
        "FROM\n",
        "    stories AS t\n",
        "    LEFT JOIN stories_likes AS sl\n",
        "    ON t.id = sl.story_id\n",
        "WHERE\n",
        "    t.user_id = 2\n",
        "GROUP BY\n",
        "    t.id\n",
        "ORDER BY\n",
        "    COUNT(sl.story_id) DESC;"
      ],
      "metadata": {
        "id": "nZMvz5YvYkS6"
      },
      "execution_count": null,
      "outputs": []
    },
    {
      "cell_type": "code",
      "source": [
        "###"
      ],
      "metadata": {
        "id": "yOOUrKH9YkS6"
      },
      "execution_count": null,
      "outputs": []
    },
    {
      "cell_type": "code",
      "source": [
        "--16\n",
        "SELECT\n",
        "    t.id\n",
        "    ,u.firstname\n",
        "    ,u.lastname\n",
        "    ,SUBSTRING(t.body, 1, 30) AS body\n",
        "    ,t.created_at\n",
        "FROM\n",
        "    group_messages AS t\n",
        "    LEFT JOIN users AS u\n",
        "    ON t.sender_id = u.id\n",
        "WHERE\n",
        "    t.group_id = 11\n",
        "    AND t.media_type = 'text'\n",
        "ORDER BY\n",
        "    t.created_at ASC;"
      ],
      "metadata": {
        "id": "qQqb_DZTYkS7"
      },
      "execution_count": null,
      "outputs": []
    },
    {
      "cell_type": "code",
      "source": [
        "###"
      ],
      "metadata": {
        "id": "j6Gtn9sNYkS7"
      },
      "execution_count": null,
      "outputs": []
    },
    {
      "cell_type": "code",
      "source": [
        "--17\n",
        "SELECT\n",
        "    t.firstname\n",
        "    ,t.lastname\n",
        "    ,chs.channel_id\n",
        "FROM\n",
        "    users AS t\n",
        "    LEFT JOIN channel_subscribers AS chs\n",
        "    ON t.id = chs.user_id\n",
        "WHERE\n",
        "    t.id = 11;"
      ],
      "metadata": {
        "id": "UtGiFwHMYkS7"
      },
      "execution_count": null,
      "outputs": []
    },
    {
      "cell_type": "code",
      "source": [
        "###"
      ],
      "metadata": {
        "id": "bJKWSHfgYkS8"
      },
      "execution_count": null,
      "outputs": []
    },
    {
      "cell_type": "code",
      "source": [
        "--18\n",
        "SELECT\n",
        "    t.firstname\n",
        "    ,t.lastname\n",
        "    ,chs.channel_id\n",
        "FROM\n",
        "    users AS t\n",
        "    CROSS JOIN channel_subscribers AS chs\n",
        "WHERE\n",
        "    t.id = 11\n",
        "    AND t.id = chs.user_id;"
      ],
      "metadata": {
        "id": "bCVbtJqeYkS_"
      },
      "execution_count": null,
      "outputs": []
    },
    {
      "cell_type": "code",
      "source": [
        "###"
      ],
      "metadata": {
        "id": "KNtah0D5Ykg2"
      },
      "execution_count": null,
      "outputs": []
    },
    {
      "cell_type": "code",
      "source": [
        "--19\n",
        "SELECT\n",
        "    t.firstname\n",
        "    ,t.lastname\n",
        "    ,c.title\n",
        "FROM\n",
        "    users AS t\n",
        "    LEFT JOIN channel_subscribers AS chs\n",
        "    ON t.id = chs.user_id\n",
        "    LEFT JOIN channels AS c\n",
        "    ON chs.channel_id = c.id\n",
        "WHERE\n",
        "    t.id = 11;"
      ],
      "metadata": {
        "id": "IbVw-CWVxOuy"
      },
      "execution_count": null,
      "outputs": []
    },
    {
      "cell_type": "code",
      "source": [
        "###"
      ],
      "metadata": {
        "id": "GWui7EJYxOyo"
      },
      "execution_count": null,
      "outputs": []
    },
    {
      "cell_type": "code",
      "source": [
        "--20\n",
        "# 1-й вариант решения\n",
        "-- получим номера id пользователей, у которых есть\n",
        "-- хотя бы одна подписка\n",
        "WITH subscribed AS (\n",
        "    SELECT t.user_id\n",
        "    FROM channel_subscribers AS t\n",
        ")\n",
        "-- отфильтруем пользователей, у которых нет подписки\n",
        "SELECT\n",
        "    t.firstname\n",
        "    ,t.lastname\n",
        "    ,t.email\n",
        "FROM\n",
        "    users AS t\n",
        "WHERE t.id NOT IN (\n",
        "    SELECT t.user_id FROM subscribed AS t);"
      ],
      "metadata": {
        "id": "vQbCCQHTxO29"
      },
      "execution_count": null,
      "outputs": []
    },
    {
      "cell_type": "code",
      "source": [
        "###"
      ],
      "metadata": {
        "id": "wq6Bz-_DxO66"
      },
      "execution_count": null,
      "outputs": []
    },
    {
      "cell_type": "code",
      "source": [
        "--21\n",
        "# 2-й вариант решения\n",
        "SELECT\n",
        "    t.firstname\n",
        "    ,t.lastname\n",
        "    ,t.email\n",
        "FROM\n",
        "    users AS t\n",
        "    LEFT JOIN channel_subscribers AS chs\n",
        "    ON t.id = chs.user_id\n",
        "WHERE chs.user_id IS NULL;"
      ],
      "metadata": {
        "id": "xGK170kjxO-U"
      },
      "execution_count": null,
      "outputs": []
    },
    {
      "cell_type": "code",
      "source": [
        "###"
      ],
      "metadata": {
        "id": "4RkxTCLdxPB7"
      },
      "execution_count": null,
      "outputs": []
    },
    {
      "cell_type": "code",
      "source": [
        "--22\n",
        "SELECT\n",
        "    t.firstname\n",
        "    ,t.lastname\n",
        "    ,t.email\n",
        "FROM\n",
        "    channel_subscribers AS chs\n",
        "    RIGHT JOIN users AS t\n",
        "    ON chs.user_id = t.id\n",
        "WHERE chs.user_id IS NULL;"
      ],
      "metadata": {
        "id": "fbiKpkypxPFt"
      },
      "execution_count": null,
      "outputs": []
    },
    {
      "cell_type": "code",
      "source": [
        "###"
      ],
      "metadata": {
        "id": "-67IQabBxPJf"
      },
      "execution_count": null,
      "outputs": []
    },
    {
      "cell_type": "code",
      "source": [
        "--23\n",
        "SELECT\n",
        "    t.id\n",
        "FROM\n",
        "    stories AS t\n",
        "    LEFT JOIN stories_likes AS sl\n",
        "    ON t.id = sl.story_id\n",
        "WHERE sl.story_id IS NULL;"
      ],
      "metadata": {
        "id": "qpqJDx_-xPNL"
      },
      "execution_count": null,
      "outputs": []
    },
    {
      "cell_type": "code",
      "source": [
        "###"
      ],
      "metadata": {
        "id": "Q4j0_TxRxPQ2"
      },
      "execution_count": null,
      "outputs": []
    },
    {
      "cell_type": "code",
      "source": [
        "--24\n",
        "SELECT *\n",
        "FROM\n",
        "    stories_likes AS t\n",
        "    LEFT JOIN stories AS s\n",
        "    ON t.story_id = s.id\n",
        "WHERE s.id IS NULL;"
      ],
      "metadata": {
        "id": "m_n4nRlexPUP"
      },
      "execution_count": null,
      "outputs": []
    },
    {
      "cell_type": "code",
      "source": [
        "###"
      ],
      "metadata": {
        "id": "3Cb6ZRYixPX1"
      },
      "execution_count": null,
      "outputs": []
    },
    {
      "cell_type": "code",
      "source": [
        "--25\n",
        "-- объединим сведения обо всех реакциях\n",
        "-- в трех источниках\n",
        "WITH all_reactions AS (\n",
        "    SELECT t.reaction_id FROM private_message_reactions AS t\n",
        "    UNION ALL\n",
        "    SELECT t.reaction_id FROM channel_message_reactions AS t\n",
        "    UNION ALL\n",
        "    SELECT t.reaction_id FROM group_message_reactions AS t\n",
        ")\n",
        "-- посчитаем частоту встречаемости каждой реакции пользователя\n",
        "SELECT\n",
        "    t.reaction_id\n",
        "    ,count(*)\n",
        "FROM\n",
        "    all_reactions AS t\n",
        "GROUP BY\n",
        "    t.reaction_id\n",
        "ORDER BY\n",
        "    t.reaction_id ASC;"
      ],
      "metadata": {
        "id": "0qlg3QZmxPbe"
      },
      "execution_count": null,
      "outputs": []
    },
    {
      "cell_type": "code",
      "source": [
        "###"
      ],
      "metadata": {
        "id": "ZtN57rcdxPe5"
      },
      "execution_count": null,
      "outputs": []
    },
    {
      "cell_type": "code",
      "source": [
        "--26\n",
        "SELECT\n",
        "    DISTINCT\n",
        "    t.user_id\n",
        "    ,COUNT(t.channel_id) OVER(PARTITION BY t.user_id) AS channels_count\n",
        "FROM\n",
        "    channel_subscribers AS t\n",
        "WHERE\n",
        "    t.status = 'joined'\n",
        "ORDER BY\n",
        "    channels_count DESC\n",
        "LIMIT 1;"
      ],
      "metadata": {
        "id": "y7XaOliZxPip"
      },
      "execution_count": null,
      "outputs": []
    },
    {
      "cell_type": "code",
      "source": [
        "###"
      ],
      "metadata": {
        "id": "wRmx0dPlxPmW"
      },
      "execution_count": null,
      "outputs": []
    },
    {
      "cell_type": "code",
      "source": [
        "--27\n",
        "SELECT\n",
        "    DISTINCT\n",
        "    t.is_premium_account\n",
        "    ,COUNT(1) OVER(PARTITION BY t.is_premium_account) AS users_amount\n",
        "FROM\n",
        "     user_settings AS t;"
      ],
      "metadata": {
        "id": "QFv14Xb8xPp9"
      },
      "execution_count": null,
      "outputs": []
    },
    {
      "cell_type": "code",
      "source": [
        "###"
      ],
      "metadata": {
        "id": "fjzr9xnVxPuG"
      },
      "execution_count": null,
      "outputs": []
    },
    {
      "cell_type": "code",
      "source": [
        "--28\n",
        "SELECT\n",
        "    DISTINCT\n",
        "    COUNT(1) OVER(PARTITION BY t.reaction_id) AS `count`\n",
        "    ,t.reaction_id\n",
        "FROM\n",
        "    private_message_reactions AS t\n",
        "ORDER BY\n",
        "    `count` DESC;"
      ],
      "metadata": {
        "id": "bdkZK7OuxPyA"
      },
      "execution_count": null,
      "outputs": []
    },
    {
      "cell_type": "code",
      "source": [
        "###"
      ],
      "metadata": {
        "id": "8phLsIZ9xP2A"
      },
      "execution_count": null,
      "outputs": []
    },
    {
      "cell_type": "code",
      "source": [
        "--29\n",
        "-- вычисляем встречаемость каждой реакции\n",
        "WITH frequency AS (\n",
        "    SELECT\n",
        "        DISTINCT\n",
        "        COUNT(1) OVER(PARTITION BY t.reaction_id) AS `count`\n",
        "        ,t.reaction_id\n",
        "    FROM\n",
        "        private_message_reactions AS t\n",
        "    ORDER BY\n",
        "        `count` DESC\n",
        ")\n",
        "-- выводим сведения только о тех реакциях,\n",
        "-- которые пользователи поставили более 80 раз\n",
        "SELECT\n",
        "    t.count\n",
        "    ,t.reaction_id\n",
        "FROM\n",
        "    frequency AS t\n",
        "WHERE\n",
        "    t.count > 80;"
      ],
      "metadata": {
        "id": "nq7tJ73MxP6V"
      },
      "execution_count": null,
      "outputs": []
    },
    {
      "cell_type": "code",
      "source": [
        "###"
      ],
      "metadata": {
        "id": "jeptAl0ExQaA"
      },
      "execution_count": null,
      "outputs": []
    },
    {
      "cell_type": "code",
      "source": [
        "--30\n",
        "SELECT\n",
        "    DISTINCT\n",
        "    SUM(t.views_count) OVER (PARTITION BY t.user_id) AS views_per_user\n",
        "    ,t.user_id\n",
        "FROM\n",
        "    stories AS t\n",
        "ORDER BY\n",
        "    t.user_id ASC;"
      ],
      "metadata": {
        "id": "KOZ_S1Mo3nYx"
      },
      "execution_count": null,
      "outputs": []
    },
    {
      "cell_type": "code",
      "source": [
        "###"
      ],
      "metadata": {
        "id": "gx80lzgk3nb4"
      },
      "execution_count": null,
      "outputs": []
    },
    {
      "cell_type": "code",
      "source": [
        "--31\n",
        "# 1-й вариант решения\n",
        "-- вычисляем суммарное количество просмотров,\n",
        "-- полученных каждым пользователем\n",
        "WITH view_amount AS (\n",
        "    SELECT\n",
        "        DISTINCT\n",
        "        SUM(t.views_count) OVER (\n",
        "            PARTITION BY t.user_id) AS views_per_user\n",
        "        ,t.user_id\n",
        "    FROM\n",
        "        stories AS t\n",
        "    ORDER BY\n",
        "        t.user_id ASC\n",
        ")\n",
        "-- выявляем ТОП-5 пользователей по числу просмотров\n",
        "SELECT\n",
        "    t.views_per_user\n",
        "    ,t.user_id\n",
        "FROM\n",
        "    view_amount AS t\n",
        "ORDER BY\n",
        "    t.views_per_user DESC\n",
        "LIMIT 5;"
      ],
      "metadata": {
        "id": "QlUkLikzho7_"
      },
      "execution_count": null,
      "outputs": []
    },
    {
      "cell_type": "code",
      "source": [
        "###"
      ],
      "metadata": {
        "id": "dPOKURniho-u"
      },
      "execution_count": null,
      "outputs": []
    },
    {
      "cell_type": "code",
      "source": [
        "--32\n",
        "# 2-й вариант решения\n",
        "SELECT\n",
        "    DISTINCT\n",
        "    SUM(t.views_count) OVER (\n",
        "        PARTITION BY t.user_id) AS views_per_user\n",
        "    ,t.user_id\n",
        "FROM\n",
        "    stories AS t\n",
        "ORDER BY\n",
        "    views_per_user DESC\n",
        "LIMIT 5;"
      ],
      "metadata": {
        "id": "CRKgiyFJhpCL"
      },
      "execution_count": null,
      "outputs": []
    },
    {
      "cell_type": "code",
      "source": [
        "###"
      ],
      "metadata": {
        "id": "nZ5zWsqWhpF1"
      },
      "execution_count": null,
      "outputs": []
    },
    {
      "cell_type": "code",
      "source": [
        "--33\n",
        "SELECT\n",
        "    DISTINCT\n",
        "    s.id\n",
        "    ,COUNT(1) OVER(PARTITION BY t.story_id) AS likes_count\n",
        "FROM\n",
        "    stories_likes AS t\n",
        "    LEFT JOIN stories AS s\n",
        "    ON t.story_id = s.id\n",
        "WHERE\n",
        "    s.user_id = 2\n",
        "ORDER BY\n",
        "    likes_count DESC;"
      ],
      "metadata": {
        "id": "Z9EWab-LhpJr"
      },
      "execution_count": null,
      "outputs": []
    },
    {
      "cell_type": "code",
      "source": [
        "###"
      ],
      "metadata": {
        "id": "5bjZr5F7hpNx"
      },
      "execution_count": null,
      "outputs": []
    },
    {
      "cell_type": "code",
      "source": [
        "--34\n",
        "-- объединяем сведения об используемых пользователями\n",
        "-- реакциях (эмодзи) во всех информационных каналах\n",
        "WITH reactions AS (\n",
        "    SELECT t.reaction_id FROM private_message_reactions AS t\n",
        "    UNION ALL\n",
        "    SELECT t.reaction_id FROM channel_message_reactions AS t\n",
        "    UNION ALL\n",
        "    SELECT t.reaction_id FROM group_message_reactions AS t\n",
        ")\n",
        "-- вычисляем частоту встречаемости каждой реакции (эмодзи)\n",
        "SELECT\n",
        "    DISTINCT\n",
        "    t.reaction_id\n",
        "    ,COUNT(1) OVER(PARTITION BY t.reaction_id) AS count\n",
        "FROM\n",
        "    reactions AS t\n",
        "ORDER BY\n",
        "    t.reaction_id ASC;"
      ],
      "metadata": {
        "id": "fL9MzPxLhpRZ"
      },
      "execution_count": null,
      "outputs": []
    },
    {
      "cell_type": "code",
      "source": [
        "###"
      ],
      "metadata": {
        "id": "CqFzoETlhpUm"
      },
      "execution_count": null,
      "outputs": []
    },
    {
      "cell_type": "code",
      "source": [
        "--35\n",
        "-- собъединим сведения о пользователях,\n",
        "-- являющихся владельцами публичных каналов\n",
        "WITH owners AS (\n",
        "    SELECT t.owner_user_id FROM channels AS t\n",
        "    UNION ALL\n",
        "    SELECT t.owner_user_id FROM `groups` AS t\n",
        ")\n",
        "-- вычислим, сколько публичных каналов\n",
        "-- приходится на одного пользователя и определим ТОП-5\n",
        "SELECT\n",
        "    DISTINCT\n",
        "    t.owner_user_id\n",
        "    ,COUNT(1) OVER(PARTITION BY t.owner_user_id) AS cnt\n",
        "FROM\n",
        "    owners AS t\n",
        "ORDER BY\n",
        "    cnt DESC\n",
        "LIMIT 5;"
      ],
      "metadata": {
        "id": "felxOIB5hpX9"
      },
      "execution_count": null,
      "outputs": []
    },
    {
      "cell_type": "code",
      "source": [
        "###"
      ],
      "metadata": {
        "id": "8pw2GwQnhpbR"
      },
      "execution_count": null,
      "outputs": []
    },
    {
      "cell_type": "code",
      "source": [],
      "metadata": {
        "id": "6dMR5SELixaY"
      },
      "execution_count": null,
      "outputs": []
    }
  ]
}